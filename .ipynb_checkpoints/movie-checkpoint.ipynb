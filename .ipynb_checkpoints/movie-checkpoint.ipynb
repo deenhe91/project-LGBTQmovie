{
 "cells": [
  {
   "cell_type": "code",
   "execution_count": 1,
   "metadata": {
    "collapsed": true
   },
   "outputs": [],
   "source": [
    "from __future__ import unicode_literals\n",
    "\n",
    "import csv\n",
    "import re\n",
    "import pandas as pd\n",
    "\n",
    "\n",
    "character_df = pd.read_csv('character_list5.csv', encoding=\"ISO-8859-1\")\n",
    "\n",
    "movie_df = pd.read_csv('meta_data7.csv', encoding=\"ISO-8859-1\") \n",
    "\n",
    "with open('meta_data7.csv', encoding=\"ISO-8859-1\") as f:\n",
    "\tmeta_reader = csv.reader(f)"
   ]
  },
  {
   "cell_type": "code",
   "execution_count": 2,
   "metadata": {
    "collapsed": false
   },
   "outputs": [
    {
     "data": {
      "text/html": [
       "<div>\n",
       "<table border=\"1\" class=\"dataframe\">\n",
       "  <thead>\n",
       "    <tr style=\"text-align: right;\">\n",
       "      <th></th>\n",
       "      <th>script_id</th>\n",
       "      <th>imdb_character_name</th>\n",
       "      <th>words</th>\n",
       "      <th>gender</th>\n",
       "      <th>age</th>\n",
       "    </tr>\n",
       "  </thead>\n",
       "  <tbody>\n",
       "    <tr>\n",
       "      <th>0</th>\n",
       "      <td>280</td>\n",
       "      <td>betty</td>\n",
       "      <td>311</td>\n",
       "      <td>f</td>\n",
       "      <td>35</td>\n",
       "    </tr>\n",
       "    <tr>\n",
       "      <th>1</th>\n",
       "      <td>280</td>\n",
       "      <td>carolyn johnson</td>\n",
       "      <td>873</td>\n",
       "      <td>f</td>\n",
       "      <td>NaN</td>\n",
       "    </tr>\n",
       "    <tr>\n",
       "      <th>2</th>\n",
       "      <td>280</td>\n",
       "      <td>eleanor</td>\n",
       "      <td>138</td>\n",
       "      <td>f</td>\n",
       "      <td>NaN</td>\n",
       "    </tr>\n",
       "    <tr>\n",
       "      <th>3</th>\n",
       "      <td>280</td>\n",
       "      <td>francesca johns</td>\n",
       "      <td>2251</td>\n",
       "      <td>f</td>\n",
       "      <td>46</td>\n",
       "    </tr>\n",
       "    <tr>\n",
       "      <th>4</th>\n",
       "      <td>280</td>\n",
       "      <td>madge</td>\n",
       "      <td>190</td>\n",
       "      <td>f</td>\n",
       "      <td>46</td>\n",
       "    </tr>\n",
       "  </tbody>\n",
       "</table>\n",
       "</div>"
      ],
      "text/plain": [
       "   script_id imdb_character_name  words gender  age\n",
       "0        280               betty    311      f   35\n",
       "1        280     carolyn johnson    873      f  NaN\n",
       "2        280             eleanor    138      f  NaN\n",
       "3        280     francesca johns   2251      f   46\n",
       "4        280               madge    190      f   46"
      ]
     },
     "execution_count": 2,
     "metadata": {},
     "output_type": "execute_result"
    }
   ],
   "source": [
    "character_df.head()"
   ]
  },
  {
   "cell_type": "code",
   "execution_count": 3,
   "metadata": {
    "collapsed": false
   },
   "outputs": [
    {
     "data": {
      "text/html": [
       "<div>\n",
       "<table border=\"1\" class=\"dataframe\">\n",
       "  <thead>\n",
       "    <tr style=\"text-align: right;\">\n",
       "      <th></th>\n",
       "      <th>script_id</th>\n",
       "      <th>imdb_id</th>\n",
       "      <th>title</th>\n",
       "      <th>year</th>\n",
       "      <th>gross</th>\n",
       "      <th>lines_data</th>\n",
       "    </tr>\n",
       "  </thead>\n",
       "  <tbody>\n",
       "    <tr>\n",
       "      <th>0</th>\n",
       "      <td>1534</td>\n",
       "      <td>tt1022603</td>\n",
       "      <td>(500) Days of Summer</td>\n",
       "      <td>2009</td>\n",
       "      <td>37</td>\n",
       "      <td>7435445256774774443342577775657744434444564456...</td>\n",
       "    </tr>\n",
       "    <tr>\n",
       "      <th>1</th>\n",
       "      <td>1512</td>\n",
       "      <td>tt0147800</td>\n",
       "      <td>10 Things I Hate About You</td>\n",
       "      <td>1999</td>\n",
       "      <td>65</td>\n",
       "      <td>1777752320274533344457777722433777334443764677...</td>\n",
       "    </tr>\n",
       "    <tr>\n",
       "      <th>2</th>\n",
       "      <td>1514</td>\n",
       "      <td>tt0417385</td>\n",
       "      <td>12 and Holding</td>\n",
       "      <td>2005</td>\n",
       "      <td>NaN</td>\n",
       "      <td>5461357777754212454544441367774433446547647753...</td>\n",
       "    </tr>\n",
       "    <tr>\n",
       "      <th>3</th>\n",
       "      <td>1517</td>\n",
       "      <td>tt2024544</td>\n",
       "      <td>12 Years a Slave</td>\n",
       "      <td>2013</td>\n",
       "      <td>60</td>\n",
       "      <td>4567334777777777777777447777756477777444777777...</td>\n",
       "    </tr>\n",
       "    <tr>\n",
       "      <th>4</th>\n",
       "      <td>1520</td>\n",
       "      <td>tt1542344</td>\n",
       "      <td>127 Hours</td>\n",
       "      <td>2010</td>\n",
       "      <td>20</td>\n",
       "      <td>453513352345765766777777773340</td>\n",
       "    </tr>\n",
       "  </tbody>\n",
       "</table>\n",
       "</div>"
      ],
      "text/plain": [
       "   script_id    imdb_id                       title  year  gross  \\\n",
       "0       1534  tt1022603        (500) Days of Summer  2009     37   \n",
       "1       1512  tt0147800  10 Things I Hate About You  1999     65   \n",
       "2       1514  tt0417385              12 and Holding  2005    NaN   \n",
       "3       1517  tt2024544            12 Years a Slave  2013     60   \n",
       "4       1520  tt1542344                   127 Hours  2010     20   \n",
       "\n",
       "                                          lines_data  \n",
       "0  7435445256774774443342577775657744434444564456...  \n",
       "1  1777752320274533344457777722433777334443764677...  \n",
       "2  5461357777754212454544441367774433446547647753...  \n",
       "3  4567334777777777777777447777756477777444777777...  \n",
       "4                     453513352345765766777777773340  "
      ]
     },
     "execution_count": 3,
     "metadata": {},
     "output_type": "execute_result"
    }
   ],
   "source": [
    "movie_df.head()"
   ]
  },
  {
   "cell_type": "code",
   "execution_count": 7,
   "metadata": {
    "collapsed": false
   },
   "outputs": [],
   "source": [
    "import pandas as ps\n",
    "\n",
    "page = 'numbers_budgets.html'\n",
    "df_budgets = pd.read_html(page)\n"
   ]
  },
  {
   "cell_type": "code",
   "execution_count": 12,
   "metadata": {
    "collapsed": false
   },
   "outputs": [],
   "source": [
    "\n",
    "dfb = df_budgets[0]\n",
    "headers = dfb.loc[0][1:]\n",
    "dfb = dfb[[1,2,3,4,5]][1:]\n",
    "dfb.columns = headers\n",
    "dfb = dfb.dropna()\n",
    "#dfb\n",
    "dfb.columns = ['year', 'title', 'budget', 'Domestic Gross','Worldwide Gross']"
   ]
  },
  {
   "cell_type": "code",
   "execution_count": 25,
   "metadata": {
    "collapsed": false
   },
   "outputs": [],
   "source": [
    "dfb.head()\n",
    "for i in range(len(dfb)):\n",
    "    #print(year)\n",
    "    tmpyear = dfb.iloc[i,0]\n",
    "    year = tmpyear[-4:]\n",
    "    dfb.iloc[i,0]=year\n",
    "    \n",
    "    \n",
    "    #print(year)\n",
    "    \n"
   ]
  },
  {
   "cell_type": "code",
   "execution_count": 26,
   "metadata": {
    "collapsed": false
   },
   "outputs": [
    {
     "data": {
      "text/html": [
       "<div>\n",
       "<table border=\"1\" class=\"dataframe\">\n",
       "  <thead>\n",
       "    <tr style=\"text-align: right;\">\n",
       "      <th></th>\n",
       "      <th>year</th>\n",
       "      <th>title</th>\n",
       "      <th>budget</th>\n",
       "      <th>Domestic Gross</th>\n",
       "      <th>Worldwide Gross</th>\n",
       "    </tr>\n",
       "  </thead>\n",
       "  <tbody>\n",
       "    <tr>\n",
       "      <th>1</th>\n",
       "      <td>2009</td>\n",
       "      <td>Avatar</td>\n",
       "      <td>$425,000,000</td>\n",
       "      <td>$760,507,625</td>\n",
       "      <td>$2,783,918,982</td>\n",
       "    </tr>\n",
       "    <tr>\n",
       "      <th>3</th>\n",
       "      <td>2015</td>\n",
       "      <td>Star Wars Ep. VII: The Force Awakens</td>\n",
       "      <td>$306,000,000</td>\n",
       "      <td>$935,832,841</td>\n",
       "      <td>$2,057,832,841</td>\n",
       "    </tr>\n",
       "    <tr>\n",
       "      <th>5</th>\n",
       "      <td>2007</td>\n",
       "      <td>Pirates of the Caribbean: At World's End</td>\n",
       "      <td>$300,000,000</td>\n",
       "      <td>$309,420,425</td>\n",
       "      <td>$963,420,425</td>\n",
       "    </tr>\n",
       "    <tr>\n",
       "      <th>7</th>\n",
       "      <td>2015</td>\n",
       "      <td>Spectre</td>\n",
       "      <td>$300,000,000</td>\n",
       "      <td>$200,074,175</td>\n",
       "      <td>$879,620,923</td>\n",
       "    </tr>\n",
       "    <tr>\n",
       "      <th>9</th>\n",
       "      <td>2012</td>\n",
       "      <td>The Dark Knight Rises</td>\n",
       "      <td>$275,000,000</td>\n",
       "      <td>$448,139,099</td>\n",
       "      <td>$1,084,439,099</td>\n",
       "    </tr>\n",
       "  </tbody>\n",
       "</table>\n",
       "</div>"
      ],
      "text/plain": [
       "   year                                     title        budget  \\\n",
       "1  2009                                    Avatar  $425,000,000   \n",
       "3  2015      Star Wars Ep. VII: The Force Awakens  $306,000,000   \n",
       "5  2007  Pirates of the Caribbean: At World's End  $300,000,000   \n",
       "7  2015                                   Spectre  $300,000,000   \n",
       "9  2012                     The Dark Knight Rises  $275,000,000   \n",
       "\n",
       "  Domestic Gross Worldwide Gross  \n",
       "1   $760,507,625  $2,783,918,982  \n",
       "3   $935,832,841  $2,057,832,841  \n",
       "5   $309,420,425    $963,420,425  \n",
       "7   $200,074,175    $879,620,923  \n",
       "9   $448,139,099  $1,084,439,099  "
      ]
     },
     "execution_count": 26,
     "metadata": {},
     "output_type": "execute_result"
    }
   ],
   "source": [
    "dfb.head()"
   ]
  },
  {
   "cell_type": "code",
   "execution_count": 29,
   "metadata": {
    "collapsed": false
   },
   "outputs": [],
   "source": [
    "# from __future__ import unicode_literals\n",
    "# import platform\n",
    "# import warnings\n",
    "\n",
    "# try:\n",
    "#     from .StringMatcher import StringMatcher as SequenceMatcher\n",
    "# except ImportError:\n",
    "#     if platform.python_implementation() != \"PyPy\":\n",
    "#         warnings.warn('Using slow pure-python SequenceMatcher. Install python-Levenshtein to remove this warning')\n",
    "#     from difflib import SequenceMatcher\n",
    "\n",
    "# from . import utils\n",
    "\n",
    "from fuzzywuzzy import fuzz"
   ]
  },
  {
   "cell_type": "code",
   "execution_count": 31,
   "metadata": {
    "collapsed": false
   },
   "outputs": [],
   "source": [
    "import difflib"
   ]
  },
  {
   "cell_type": "code",
   "execution_count": 56,
   "metadata": {
    "collapsed": false
   },
   "outputs": [],
   "source": [
    "# dfb.groupby(['year', 'title'])\n",
    "\n",
    "\n",
    "movie_df[\"movie\"] = movie_df[\"year\"].map(str) + \" \" + movie_df[\"title\"]\n",
    "dfb[\"movie\"] = dfb[\"year\"].map(str) + \" \" + dfb[\"title\"]\n",
    "\n",
    "# movie_df.groupby(['year', 'title'])\n",
    "df_new = pd.merge(dfb, movie_df, on=['movie'])\n"
   ]
  },
  {
   "cell_type": "code",
   "execution_count": 60,
   "metadata": {
    "collapsed": false
   },
   "outputs": [
    {
     "name": "stdout",
     "output_type": "stream",
     "text": [
      "  year_x                                   title_x        budget  \\\n",
      "0   2009                                    Avatar  $425,000,000   \n",
      "1   2007  Pirates of the Caribbean: At World's End  $300,000,000   \n",
      "2   2012                     The Dark Knight Rises  $275,000,000   \n",
      "3   2009    Harry Potter and the Half-Blood Prince  $250,000,000   \n",
      "4   2012                              The Avengers  $225,000,000   \n",
      "\n",
      "  Domestic Gross Worldwide Gross  \\\n",
      "0   $760,507,625  $2,783,918,982   \n",
      "1   $309,420,425    $963,420,425   \n",
      "2   $448,139,099  $1,084,439,099   \n",
      "3   $301,959,197    $935,083,686   \n",
      "4   $623,279,547  $1,519,479,547   \n",
      "\n",
      "                                           movie  script_id    imdb_id  \\\n",
      "0                                    2009 Avatar       1718  tt0499549   \n",
      "1  2007 Pirates of the Caribbean: At World's End       8352  tt0449088   \n",
      "2                     2012 The Dark Knight Rises       8807  tt1345836   \n",
      "3    2009 Harry Potter and the Half-Blood Prince       4339  tt0417741   \n",
      "4                              2012 The Avengers       1723  tt0848228   \n",
      "\n",
      "                                    title_y  year_y  gross  \\\n",
      "0                                    Avatar    2009    882   \n",
      "1  Pirates of the Caribbean: At World's End    2007    390   \n",
      "2                     The Dark Knight Rises    2012    489   \n",
      "3    Harry Potter and the Half-Blood Prince    2009    350   \n",
      "4                              The Avengers    2012    680   \n",
      "\n",
      "                                          lines_data  \n",
      "0  7777777434446445734332423436443353445774262324...  \n",
      "1  2576777414665772667657777657675446555777777777...  \n",
      "2  7776764367777743147777777477772234317777777675...  \n",
      "3  1333377777515676452546347745467457776744256366...  \n",
      "4  7777777433343447777554355344575666675655777777...  \n"
     ]
    }
   ],
   "source": [
    "#print(dfb.head())\n",
    "print(df_new.head())"
   ]
  },
  {
   "cell_type": "code",
   "execution_count": 39,
   "metadata": {
    "collapsed": false
   },
   "outputs": [
    {
     "name": "stdout",
     "output_type": "stream",
     "text": [
      "1317\n",
      "5117\n",
      "2000\n",
      "    script_id    imdb_id                  title  year  gross  \\\n",
      "8        1525  tt0974661               17 Again  2009     74   \n",
      "9        6030  tt1272878                 2 Guns  2013     80   \n",
      "10        625  tt0062622  2001: A Space Odyssey  1968    376   \n",
      "11       1509  tt1190080                   2012  2009    192   \n",
      "12       8543  tt0478087                     21  2008     98   \n",
      "\n",
      "                                           lines_data  \n",
      "8   7667676775564344777777776764653356777477725754...  \n",
      "9   3676577777777757676674257563677777577777777777...  \n",
      "10  7777734457575677777777777777777777777777777777...  \n",
      "11  7777634467206776677776457663674466677643166554...  \n",
      "12  6677777777777777667777777654777777556537777767...  \n"
     ]
    }
   ],
   "source": [
    "print(len(df_new))\n",
    "print(len(dfb))\n",
    "print(len(movie_df))\n",
    "print(movie_df.loc[,'imdb_id'])"
   ]
  },
  {
   "cell_type": "code",
   "execution_count": null,
   "metadata": {
    "collapsed": true
   },
   "outputs": [],
   "source": [
    "for i in range(len(df_new)):\n",
    "    \n",
    "    "
   ]
  }
 ],
 "metadata": {
  "kernelspec": {
   "display_name": "Python 3",
   "language": "python",
   "name": "python3"
  },
  "language_info": {
   "codemirror_mode": {
    "name": "ipython",
    "version": 3
   },
   "file_extension": ".py",
   "mimetype": "text/x-python",
   "name": "python",
   "nbconvert_exporter": "python",
   "pygments_lexer": "ipython3",
   "version": "3.5.1"
  }
 },
 "nbformat": 4,
 "nbformat_minor": 0
}
