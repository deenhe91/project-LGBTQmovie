{
 "cells": [
  {
   "cell_type": "code",
   "execution_count": 2,
   "metadata": {
    "collapsed": false
   },
   "outputs": [],
   "source": [
    "from __future__ import unicode_literals\n",
    "\n",
    "import csv\n",
    "import re\n",
    "import pandas as pd\n",
    "\n",
    "\n",
    "character_df = pd.read_csv('../data_files/character_list5.csv', encoding=\"ISO-8859-1\")\n",
    "\n",
    "movie_df = pd.read_csv('../data_files/meta_data7.csv', encoding=\"ISO-8859-1\") \n",
    "\n",
    "with open('../data_files/meta_data7.csv', encoding=\"ISO-8859-1\") as f:\n",
    "\tmeta_reader = csv.reader(f)"
   ]
  },
  {
   "cell_type": "code",
   "execution_count": 3,
   "metadata": {
    "collapsed": false
   },
   "outputs": [
    {
     "data": {
      "text/html": [
       "<div>\n",
       "<table border=\"1\" class=\"dataframe\">\n",
       "  <thead>\n",
       "    <tr style=\"text-align: right;\">\n",
       "      <th></th>\n",
       "      <th>script_id</th>\n",
       "      <th>imdb_character_name</th>\n",
       "      <th>words</th>\n",
       "      <th>gender</th>\n",
       "      <th>age</th>\n",
       "    </tr>\n",
       "  </thead>\n",
       "  <tbody>\n",
       "    <tr>\n",
       "      <th>0</th>\n",
       "      <td>280</td>\n",
       "      <td>betty</td>\n",
       "      <td>311</td>\n",
       "      <td>f</td>\n",
       "      <td>35</td>\n",
       "    </tr>\n",
       "    <tr>\n",
       "      <th>1</th>\n",
       "      <td>280</td>\n",
       "      <td>carolyn johnson</td>\n",
       "      <td>873</td>\n",
       "      <td>f</td>\n",
       "      <td>NaN</td>\n",
       "    </tr>\n",
       "    <tr>\n",
       "      <th>2</th>\n",
       "      <td>280</td>\n",
       "      <td>eleanor</td>\n",
       "      <td>138</td>\n",
       "      <td>f</td>\n",
       "      <td>NaN</td>\n",
       "    </tr>\n",
       "    <tr>\n",
       "      <th>3</th>\n",
       "      <td>280</td>\n",
       "      <td>francesca johns</td>\n",
       "      <td>2251</td>\n",
       "      <td>f</td>\n",
       "      <td>46</td>\n",
       "    </tr>\n",
       "    <tr>\n",
       "      <th>4</th>\n",
       "      <td>280</td>\n",
       "      <td>madge</td>\n",
       "      <td>190</td>\n",
       "      <td>f</td>\n",
       "      <td>46</td>\n",
       "    </tr>\n",
       "  </tbody>\n",
       "</table>\n",
       "</div>"
      ],
      "text/plain": [
       "   script_id imdb_character_name  words gender  age\n",
       "0        280               betty    311      f   35\n",
       "1        280     carolyn johnson    873      f  NaN\n",
       "2        280             eleanor    138      f  NaN\n",
       "3        280     francesca johns   2251      f   46\n",
       "4        280               madge    190      f   46"
      ]
     },
     "execution_count": 3,
     "metadata": {},
     "output_type": "execute_result"
    }
   ],
   "source": [
    "character_df.head()"
   ]
  },
  {
   "cell_type": "code",
   "execution_count": 4,
   "metadata": {
    "collapsed": false
   },
   "outputs": [
    {
     "data": {
      "text/html": [
       "<div>\n",
       "<table border=\"1\" class=\"dataframe\">\n",
       "  <thead>\n",
       "    <tr style=\"text-align: right;\">\n",
       "      <th></th>\n",
       "      <th>script_id</th>\n",
       "      <th>imdb_id</th>\n",
       "      <th>title</th>\n",
       "      <th>year</th>\n",
       "      <th>gross</th>\n",
       "      <th>lines_data</th>\n",
       "    </tr>\n",
       "  </thead>\n",
       "  <tbody>\n",
       "    <tr>\n",
       "      <th>0</th>\n",
       "      <td>1534</td>\n",
       "      <td>tt1022603</td>\n",
       "      <td>(500) Days of Summer</td>\n",
       "      <td>2009</td>\n",
       "      <td>37</td>\n",
       "      <td>7435445256774774443342577775657744434444564456...</td>\n",
       "    </tr>\n",
       "    <tr>\n",
       "      <th>1</th>\n",
       "      <td>1512</td>\n",
       "      <td>tt0147800</td>\n",
       "      <td>10 Things I Hate About You</td>\n",
       "      <td>1999</td>\n",
       "      <td>65</td>\n",
       "      <td>1777752320274533344457777722433777334443764677...</td>\n",
       "    </tr>\n",
       "    <tr>\n",
       "      <th>2</th>\n",
       "      <td>1514</td>\n",
       "      <td>tt0417385</td>\n",
       "      <td>12 and Holding</td>\n",
       "      <td>2005</td>\n",
       "      <td>NaN</td>\n",
       "      <td>5461357777754212454544441367774433446547647753...</td>\n",
       "    </tr>\n",
       "    <tr>\n",
       "      <th>3</th>\n",
       "      <td>1517</td>\n",
       "      <td>tt2024544</td>\n",
       "      <td>12 Years a Slave</td>\n",
       "      <td>2013</td>\n",
       "      <td>60</td>\n",
       "      <td>4567334777777777777777447777756477777444777777...</td>\n",
       "    </tr>\n",
       "    <tr>\n",
       "      <th>4</th>\n",
       "      <td>1520</td>\n",
       "      <td>tt1542344</td>\n",
       "      <td>127 Hours</td>\n",
       "      <td>2010</td>\n",
       "      <td>20</td>\n",
       "      <td>453513352345765766777777773340</td>\n",
       "    </tr>\n",
       "  </tbody>\n",
       "</table>\n",
       "</div>"
      ],
      "text/plain": [
       "   script_id    imdb_id                       title  year  gross  \\\n",
       "0       1534  tt1022603        (500) Days of Summer  2009     37   \n",
       "1       1512  tt0147800  10 Things I Hate About You  1999     65   \n",
       "2       1514  tt0417385              12 and Holding  2005    NaN   \n",
       "3       1517  tt2024544            12 Years a Slave  2013     60   \n",
       "4       1520  tt1542344                   127 Hours  2010     20   \n",
       "\n",
       "                                          lines_data  \n",
       "0  7435445256774774443342577775657744434444564456...  \n",
       "1  1777752320274533344457777722433777334443764677...  \n",
       "2  5461357777754212454544441367774433446547647753...  \n",
       "3  4567334777777777777777447777756477777444777777...  \n",
       "4                     453513352345765766777777773340  "
      ]
     },
     "execution_count": 4,
     "metadata": {},
     "output_type": "execute_result"
    }
   ],
   "source": [
    "movie_df.head()"
   ]
  },
  {
   "cell_type": "code",
   "execution_count": 5,
   "metadata": {
    "collapsed": false
   },
   "outputs": [],
   "source": [
    "\n",
    "\n",
    "page = '../data_files/numbers_budgets.html'\n",
    "df_budgets = pd.read_html(page)\n"
   ]
  },
  {
   "cell_type": "code",
   "execution_count": 6,
   "metadata": {
    "collapsed": false
   },
   "outputs": [],
   "source": [
    "\n",
    "dfb = df_budgets[0]\n",
    "headers = dfb.loc[0][1:]\n",
    "dfb = dfb[[1,2,3,4,5]][1:]\n",
    "dfb.columns = headers\n",
    "dfb = dfb.dropna()\n",
    "#dfb\n",
    "dfb.columns = ['year', 'title', 'budget', 'Domestic Gross','Worldwide Gross']"
   ]
  },
  {
   "cell_type": "code",
   "execution_count": 7,
   "metadata": {
    "collapsed": false
   },
   "outputs": [],
   "source": [
    "dfb.head()\n",
    "for i in range(len(dfb)):\n",
    "    #print(year)\n",
    "    tmpyear = dfb.iloc[i,0]\n",
    "    year = tmpyear[-4:]\n",
    "    dfb.iloc[i,0]=year\n",
    "    \n",
    "    \n",
    "    #print(year)\n",
    "    \n"
   ]
  },
  {
   "cell_type": "code",
   "execution_count": 8,
   "metadata": {
    "collapsed": false
   },
   "outputs": [
    {
     "data": {
      "text/html": [
       "<div>\n",
       "<table border=\"1\" class=\"dataframe\">\n",
       "  <thead>\n",
       "    <tr style=\"text-align: right;\">\n",
       "      <th></th>\n",
       "      <th>year</th>\n",
       "      <th>title</th>\n",
       "      <th>budget</th>\n",
       "      <th>Domestic Gross</th>\n",
       "      <th>Worldwide Gross</th>\n",
       "    </tr>\n",
       "  </thead>\n",
       "  <tbody>\n",
       "    <tr>\n",
       "      <th>1</th>\n",
       "      <td>2009</td>\n",
       "      <td>Avatar</td>\n",
       "      <td>$425,000,000</td>\n",
       "      <td>$760,507,625</td>\n",
       "      <td>$2,783,918,982</td>\n",
       "    </tr>\n",
       "    <tr>\n",
       "      <th>3</th>\n",
       "      <td>2015</td>\n",
       "      <td>Star Wars Ep. VII: The Force Awakens</td>\n",
       "      <td>$306,000,000</td>\n",
       "      <td>$935,832,841</td>\n",
       "      <td>$2,057,832,841</td>\n",
       "    </tr>\n",
       "    <tr>\n",
       "      <th>5</th>\n",
       "      <td>2007</td>\n",
       "      <td>Pirates of the Caribbean: At World's End</td>\n",
       "      <td>$300,000,000</td>\n",
       "      <td>$309,420,425</td>\n",
       "      <td>$963,420,425</td>\n",
       "    </tr>\n",
       "    <tr>\n",
       "      <th>7</th>\n",
       "      <td>2015</td>\n",
       "      <td>Spectre</td>\n",
       "      <td>$300,000,000</td>\n",
       "      <td>$200,074,175</td>\n",
       "      <td>$879,620,923</td>\n",
       "    </tr>\n",
       "    <tr>\n",
       "      <th>9</th>\n",
       "      <td>2012</td>\n",
       "      <td>The Dark Knight Rises</td>\n",
       "      <td>$275,000,000</td>\n",
       "      <td>$448,139,099</td>\n",
       "      <td>$1,084,439,099</td>\n",
       "    </tr>\n",
       "  </tbody>\n",
       "</table>\n",
       "</div>"
      ],
      "text/plain": [
       "   year                                     title        budget  \\\n",
       "1  2009                                    Avatar  $425,000,000   \n",
       "3  2015      Star Wars Ep. VII: The Force Awakens  $306,000,000   \n",
       "5  2007  Pirates of the Caribbean: At World's End  $300,000,000   \n",
       "7  2015                                   Spectre  $300,000,000   \n",
       "9  2012                     The Dark Knight Rises  $275,000,000   \n",
       "\n",
       "  Domestic Gross Worldwide Gross  \n",
       "1   $760,507,625  $2,783,918,982  \n",
       "3   $935,832,841  $2,057,832,841  \n",
       "5   $309,420,425    $963,420,425  \n",
       "7   $200,074,175    $879,620,923  \n",
       "9   $448,139,099  $1,084,439,099  "
      ]
     },
     "execution_count": 8,
     "metadata": {},
     "output_type": "execute_result"
    }
   ],
   "source": [
    "dfb.head()"
   ]
  },
  {
   "cell_type": "code",
   "execution_count": 9,
   "metadata": {
    "collapsed": false
   },
   "outputs": [],
   "source": [
    "# dfb.groupby(['year', 'title'])\n",
    "\n",
    "\n",
    "movie_df[\"movie\"] = movie_df[\"year\"].map(str) + \" \" + movie_df[\"title\"]\n",
    "dfb[\"movie\"] = dfb[\"year\"].map(str) + \" \" + dfb[\"title\"]\n",
    "\n",
    "# movie_df.groupby(['year', 'title'])\n",
    "df_new = pd.merge(dfb, movie_df, on=['movie'])\n"
   ]
  },
  {
   "cell_type": "code",
   "execution_count": 10,
   "metadata": {
    "collapsed": false
   },
   "outputs": [
    {
     "name": "stdout",
     "output_type": "stream",
     "text": [
      "  year_x                                   title_x        budget  \\\n",
      "0   2009                                    Avatar  $425,000,000   \n",
      "1   2007  Pirates of the Caribbean: At World's End  $300,000,000   \n",
      "2   2012                     The Dark Knight Rises  $275,000,000   \n",
      "3   2009    Harry Potter and the Half-Blood Prince  $250,000,000   \n",
      "4   2012                              The Avengers  $225,000,000   \n",
      "\n",
      "  Domestic Gross Worldwide Gross  \\\n",
      "0   $760,507,625  $2,783,918,982   \n",
      "1   $309,420,425    $963,420,425   \n",
      "2   $448,139,099  $1,084,439,099   \n",
      "3   $301,959,197    $935,083,686   \n",
      "4   $623,279,547  $1,519,479,547   \n",
      "\n",
      "                                           movie  script_id    imdb_id  \\\n",
      "0                                    2009 Avatar       1718  tt0499549   \n",
      "1  2007 Pirates of the Caribbean: At World's End       8352  tt0449088   \n",
      "2                     2012 The Dark Knight Rises       8807  tt1345836   \n",
      "3    2009 Harry Potter and the Half-Blood Prince       4339  tt0417741   \n",
      "4                              2012 The Avengers       1723  tt0848228   \n",
      "\n",
      "                                    title_y  year_y  gross  \\\n",
      "0                                    Avatar    2009    882   \n",
      "1  Pirates of the Caribbean: At World's End    2007    390   \n",
      "2                     The Dark Knight Rises    2012    489   \n",
      "3    Harry Potter and the Half-Blood Prince    2009    350   \n",
      "4                              The Avengers    2012    680   \n",
      "\n",
      "                                          lines_data  \n",
      "0  7777777434446445734332423436443353445774262324...  \n",
      "1  2576777414665772667657777657675446555777777777...  \n",
      "2  7776764367777743147777777477772234317777777675...  \n",
      "3  1333377777515676452546347745467457776744256366...  \n",
      "4  7777777433343447777554355344575666675655777777...  \n"
     ]
    }
   ],
   "source": [
    "#print(dfb.head())\n",
    "print(df_new.head())\n"
   ]
  },
  {
   "cell_type": "code",
   "execution_count": 11,
   "metadata": {
    "collapsed": false
   },
   "outputs": [
    {
     "name": "stdout",
     "output_type": "stream",
     "text": [
      "1198\n",
      "5117\n",
      "2000\n",
      "1198\n"
     ]
    }
   ],
   "source": [
    "print(len(df_new))\n",
    "print(len(dfb))\n",
    "print(len(movie_df))\n",
    "print(len(set(movie_df['movie']).intersection(dfb['movie'])))"
   ]
  },
  {
   "cell_type": "code",
   "execution_count": 174,
   "metadata": {
    "collapsed": false
   },
   "outputs": [
    {
     "name": "stdout",
     "output_type": "stream",
     "text": [
      "[0.2903980099502487, 0.2157202797202796, 0.29246875, 0.17420435510887775, 0.1683333333333333, 0.019258160237388647, 0.18551470588235297, 0.5445762711864407, 0.3728422876949739]\n",
      "[3.443549768716807, 4.63563278008299, 3.4191687146062613, 5.740384615384615, 5.940594059405941, 51.926040061633486, 5.390408244153784, 1.8362900715841892, 2.682099195835077]\n"
     ]
    }
   ],
   "source": [
    "import numpy as np \n",
    "\n",
    "f_ratio = []\n",
    "m_ratio = []\n",
    "for lines in df_new['lines_data']:\n",
    "    male = sum(int(i) for i in lines.strip())/len(lines)\n",
    "    female = 7.01 - male\n",
    "    f_ratio.append(female/male)\n",
    "    m_ratio.append(male/female)\n",
    "    \n",
    "\n",
    "# tmp = df_new.iloc[1,11]\n",
    "# print(tmp)\n",
    "# print(sum(int(c) for c in tmp.strip()))\n",
    "\n",
    "print(f_ratio[1:10])\n",
    "print(m_ratio[1:10])\n",
    "\n",
    "#new_df['ratio'] = None\n",
    "df_new['ratio']= pd.DataFrame(f_ratio)\n"
   ]
  },
  {
   "cell_type": "code",
   "execution_count": 175,
   "metadata": {
    "collapsed": false
   },
   "outputs": [
    {
     "name": "stdout",
     "output_type": "stream",
     "text": [
      "  year_x                                   title_x     budget  Domestic Gross  \\\n",
      "0   2009                                    Avatar  425000000       760507625   \n",
      "1   2007  Pirates of the Caribbean: At World's End  300000000       309420425   \n",
      "2   2012                     The Dark Knight Rises  275000000       448139099   \n",
      "3   2009    Harry Potter and the Half-Blood Prince  250000000       301959197   \n",
      "4   2012                              The Avengers  225000000       623279547   \n",
      "\n",
      "  Worldwide Gross                                          movie  script_id  \\\n",
      "0  $2,783,918,982                                    2009 Avatar       1718   \n",
      "1    $963,420,425  2007 Pirates of the Caribbean: At World's End       8352   \n",
      "2  $1,084,439,099                     2012 The Dark Knight Rises       8807   \n",
      "3    $935,083,686    2009 Harry Potter and the Half-Blood Prince       4339   \n",
      "4  $1,519,479,547                              2012 The Avengers       1723   \n",
      "\n",
      "     imdb_id                                   title_y  year_y  gross  \\\n",
      "0  tt0499549                                    Avatar    2009    882   \n",
      "1  tt0449088  Pirates of the Caribbean: At World's End    2007    390   \n",
      "2  tt1345836                     The Dark Knight Rises    2012    489   \n",
      "3  tt0417741    Harry Potter and the Half-Blood Prince    2009    350   \n",
      "4  tt0848228                              The Avengers    2012    680   \n",
      "\n",
      "                                          lines_data     ratio  \n",
      "0  7777777434446445734332423436443353445774262324...  0.529322  \n",
      "1  2576777414665772667657777657675446555777777777...  0.290398  \n",
      "2  7776764367777743147777777477772234317777777675...  0.215720  \n",
      "3  1333377777515676452546347745467457776744256366...  0.292469  \n",
      "4  7777777433343447777554355344575666675655777777...  0.174204  \n"
     ]
    }
   ],
   "source": [
    "print(df_new.head())"
   ]
  },
  {
   "cell_type": "code",
   "execution_count": 14,
   "metadata": {
    "collapsed": false
   },
   "outputs": [],
   "source": [
    "'''clean up numbers and turn from strings to integers'''\n",
    "\n",
    "df_new['Domestic Gross'] = df_new['Domestic Gross'].str.replace('$', '')\n",
    "df_new['Domestic Gross'] = df_new['Domestic Gross'].str.replace(',', '')\n",
    "df_new['budget'] = df_new['budget'].str.replace('$', '')\n",
    "df_new['budget'] = df_new['budget'].str.replace(',', '')\n",
    "df_new['Domestic Gross'] = [int(budget) for budget in df_new['Domestic Gross']]\n",
    "df_new['budget'] = [int(budget) for budget in df_new['budget']]\n",
    "#type(df_new['Domestic Gross'][1])"
   ]
  },
  {
   "cell_type": "code",
   "execution_count": 15,
   "metadata": {
    "collapsed": false
   },
   "outputs": [
    {
     "data": {
      "text/plain": [
       "Index(['year_x', 'title_x', 'budget', 'Domestic Gross', 'Worldwide Gross',\n",
       "       'movie', 'script_id', 'imdb_id', 'title_y', 'year_y', 'gross',\n",
       "       'lines_data', 'ratio'],\n",
       "      dtype='object')"
      ]
     },
     "execution_count": 15,
     "metadata": {},
     "output_type": "execute_result"
    }
   ],
   "source": [
    "df_new.columns"
   ]
  },
  {
   "cell_type": "code",
   "execution_count": 176,
   "metadata": {
    "collapsed": false
   },
   "outputs": [],
   "source": [
    "df_new_reduced = pd.concat([df_new['budget'], df_new['Domestic Gross'], df_new['movie'],\n",
    "                         df_new['ratio'], df_new['year_y'], df_new['script_id']], axis=1, keys=['budget', 'dom gross', 'movie',\n",
    "                                                                                   'ratio', 'year', 'script_id'])"
   ]
  },
  {
   "cell_type": "code",
   "execution_count": 177,
   "metadata": {
    "collapsed": false
   },
   "outputs": [
    {
     "data": {
      "text/html": [
       "<div>\n",
       "<table border=\"1\" class=\"dataframe\">\n",
       "  <thead>\n",
       "    <tr style=\"text-align: right;\">\n",
       "      <th></th>\n",
       "      <th>budget</th>\n",
       "      <th>dom gross</th>\n",
       "      <th>movie</th>\n",
       "      <th>ratio</th>\n",
       "      <th>year</th>\n",
       "      <th>script_id</th>\n",
       "    </tr>\n",
       "  </thead>\n",
       "  <tbody>\n",
       "    <tr>\n",
       "      <th>0</th>\n",
       "      <td>425000000</td>\n",
       "      <td>760507625</td>\n",
       "      <td>2009 Avatar</td>\n",
       "      <td>0.529322</td>\n",
       "      <td>2009</td>\n",
       "      <td>1718</td>\n",
       "    </tr>\n",
       "    <tr>\n",
       "      <th>1</th>\n",
       "      <td>300000000</td>\n",
       "      <td>309420425</td>\n",
       "      <td>2007 Pirates of the Caribbean: At World's End</td>\n",
       "      <td>0.290398</td>\n",
       "      <td>2007</td>\n",
       "      <td>8352</td>\n",
       "    </tr>\n",
       "    <tr>\n",
       "      <th>2</th>\n",
       "      <td>275000000</td>\n",
       "      <td>448139099</td>\n",
       "      <td>2012 The Dark Knight Rises</td>\n",
       "      <td>0.215720</td>\n",
       "      <td>2012</td>\n",
       "      <td>8807</td>\n",
       "    </tr>\n",
       "    <tr>\n",
       "      <th>3</th>\n",
       "      <td>250000000</td>\n",
       "      <td>301959197</td>\n",
       "      <td>2009 Harry Potter and the Half-Blood Prince</td>\n",
       "      <td>0.292469</td>\n",
       "      <td>2009</td>\n",
       "      <td>4339</td>\n",
       "    </tr>\n",
       "    <tr>\n",
       "      <th>4</th>\n",
       "      <td>225000000</td>\n",
       "      <td>623279547</td>\n",
       "      <td>2012 The Avengers</td>\n",
       "      <td>0.174204</td>\n",
       "      <td>2012</td>\n",
       "      <td>1723</td>\n",
       "    </tr>\n",
       "  </tbody>\n",
       "</table>\n",
       "</div>"
      ],
      "text/plain": [
       "      budget  dom gross                                          movie  \\\n",
       "0  425000000  760507625                                    2009 Avatar   \n",
       "1  300000000  309420425  2007 Pirates of the Caribbean: At World's End   \n",
       "2  275000000  448139099                     2012 The Dark Knight Rises   \n",
       "3  250000000  301959197    2009 Harry Potter and the Half-Blood Prince   \n",
       "4  225000000  623279547                              2012 The Avengers   \n",
       "\n",
       "      ratio  year  script_id  \n",
       "0  0.529322  2009       1718  \n",
       "1  0.290398  2007       8352  \n",
       "2  0.215720  2012       8807  \n",
       "3  0.292469  2009       4339  \n",
       "4  0.174204  2012       1723  "
      ]
     },
     "execution_count": 177,
     "metadata": {},
     "output_type": "execute_result"
    }
   ],
   "source": [
    "df_new_reduced.head()"
   ]
  },
  {
   "cell_type": "code",
   "execution_count": 18,
   "metadata": {
    "collapsed": true
   },
   "outputs": [],
   "source": [
    "from pandas.tools.plotting import scatter_matrix"
   ]
  },
  {
   "cell_type": "code",
   "execution_count": 178,
   "metadata": {
    "collapsed": false
   },
   "outputs": [
    {
     "data": {
      "text/plain": [
       "<function matplotlib.pyplot.show>"
      ]
     },
     "execution_count": 178,
     "metadata": {},
     "output_type": "execute_result"
    },
    {
     "data": {
      "image/png": "[encoded data removed]",
      "text/plain": [
       "<matplotlib.figure.Figure at 0x118563940>"
      ]
     },
     "metadata": {},
     "output_type": "display_data"
    }
   ],
   "source": [
    "scatter_matrix(df_new_reduced, alpha=0.2, figsize=(10,10), diagonal='kde')\n",
    "plt.show"
   ]
  },
  {
   "cell_type": "code",
   "execution_count": 179,
   "metadata": {
    "collapsed": false
   },
   "outputs": [
    {
     "name": "stdout",
     "output_type": "stream",
     "text": [
      "(1198, 4)\n",
      "(1198,)\n",
      "<class 'numpy.ndarray'>\n",
      "<class 'numpy.ndarray'>\n",
      "[[  7.60507625e+08   4.25000000e+08   2.00900000e+03   1.00000000e+00]\n",
      " [  3.09420425e+08   3.00000000e+08   2.00700000e+03   1.00000000e+00]\n",
      " [  4.48139099e+08   2.75000000e+08   2.01200000e+03   1.00000000e+00]]\n"
     ]
    }
   ],
   "source": [
    "\n",
    "Y = np.array(df_new_reduced['ratio'])\n",
    "X1 = np.array(df_new_reduced['dom gross'])\n",
    "X2 = np.array(df_new_reduced['budget'])\n",
    "X3= np.array(df_new_reduced['year'])\n",
    "X4 = np.ones(len(X1))\n",
    "X = np.array([X1, X2, X3, X4])\n",
    "\n",
    "X = X.T\n",
    "\n",
    "print(X.shape)\n",
    "print(Y.shape)\n",
    "print(type(X))\n",
    "print(type(Y))\n",
    "print(X[:3])"
   ]
  },
  {
   "cell_type": "code",
   "execution_count": 21,
   "metadata": {
    "collapsed": false
   },
   "outputs": [],
   "source": [
    "# mask = np.random.rand(X.shape[0]) < 0.75\n",
    "# X_train = X[mask]\n",
    "# X_test = X[~mask]\n",
    "# Y_train = Y[mask]\n",
    "# Y_test = Y[~mask]"
   ]
  },
  {
   "cell_type": "code",
   "execution_count": 180,
   "metadata": {
    "collapsed": false
   },
   "outputs": [
    {
     "data": {
      "text/html": [
       "<table class=\"simpletable\">\n",
       "<caption>OLS Regression Results</caption>\n",
       "<tr>\n",
       "  <th>Dep. Variable:</th>            <td>y</td>        <th>  R-squared:         </th> <td>   0.032</td>\n",
       "</tr>\n",
       "<tr>\n",
       "  <th>Model:</th>                   <td>OLS</td>       <th>  Adj. R-squared:    </th> <td>   0.030</td>\n",
       "</tr>\n",
       "<tr>\n",
       "  <th>Method:</th>             <td>Least Squares</td>  <th>  F-statistic:       </th> <td>   13.25</td>\n",
       "</tr>\n",
       "<tr>\n",
       "  <th>Date:</th>             <td>Fri, 22 Apr 2016</td> <th>  Prob (F-statistic):</th> <td>1.65e-08</td>\n",
       "</tr>\n",
       "<tr>\n",
       "  <th>Time:</th>                 <td>08:19:39</td>     <th>  Log-Likelihood:    </th> <td> -1510.7</td>\n",
       "</tr>\n",
       "<tr>\n",
       "  <th>No. Observations:</th>      <td>  1198</td>      <th>  AIC:               </th> <td>   3029.</td>\n",
       "</tr>\n",
       "<tr>\n",
       "  <th>Df Residuals:</th>          <td>  1194</td>      <th>  BIC:               </th> <td>   3050.</td>\n",
       "</tr>\n",
       "<tr>\n",
       "  <th>Df Model:</th>              <td>     3</td>      <th>                     </th>     <td> </td>   \n",
       "</tr>\n",
       "<tr>\n",
       "  <th>Covariance Type:</th>      <td>nonrobust</td>    <th>                     </th>     <td> </td>   \n",
       "</tr>\n",
       "</table>\n",
       "<table class=\"simpletable\">\n",
       "<tr>\n",
       "    <td></td>       <th>coef</th>     <th>std err</th>      <th>t</th>      <th>P>|t|</th> <th>[95.0% Conf. Int.]</th> \n",
       "</tr>\n",
       "<tr>\n",
       "  <th>x1</th>    <td> 6.893e-10</td> <td> 3.96e-10</td> <td>    1.740</td> <td> 0.082</td> <td> -8.8e-11  1.47e-09</td>\n",
       "</tr>\n",
       "<tr>\n",
       "  <th>x2</th>    <td>-3.946e-09</td> <td>  7.5e-10</td> <td>   -5.262</td> <td> 0.000</td> <td>-5.42e-09 -2.47e-09</td>\n",
       "</tr>\n",
       "<tr>\n",
       "  <th>x3</th>    <td>    0.0104</td> <td>    0.002</td> <td>    4.190</td> <td> 0.000</td> <td>    0.006     0.015</td>\n",
       "</tr>\n",
       "<tr>\n",
       "  <th>const</th> <td>  -20.0041</td> <td>    4.941</td> <td>   -4.049</td> <td> 0.000</td> <td>  -29.698   -10.310</td>\n",
       "</tr>\n",
       "</table>\n",
       "<table class=\"simpletable\">\n",
       "<tr>\n",
       "  <th>Omnibus:</th>       <td>1189.403</td> <th>  Durbin-Watson:     </th> <td>   2.059</td> \n",
       "</tr>\n",
       "<tr>\n",
       "  <th>Prob(Omnibus):</th>  <td> 0.000</td>  <th>  Jarque-Bera (JB):  </th> <td>57126.534</td>\n",
       "</tr>\n",
       "<tr>\n",
       "  <th>Skew:</th>           <td> 4.708</td>  <th>  Prob(JB):          </th> <td>    0.00</td> \n",
       "</tr>\n",
       "<tr>\n",
       "  <th>Kurtosis:</th>       <td>35.493</td>  <th>  Cond. No.          </th> <td>2.42e+10</td> \n",
       "</tr>\n",
       "</table>"
      ],
      "text/plain": [
       "<class 'statsmodels.iolib.summary.Summary'>\n",
       "\"\"\"\n",
       "                            OLS Regression Results                            \n",
       "==============================================================================\n",
       "Dep. Variable:                      y   R-squared:                       0.032\n",
       "Model:                            OLS   Adj. R-squared:                  0.030\n",
       "Method:                 Least Squares   F-statistic:                     13.25\n",
       "Date:                Fri, 22 Apr 2016   Prob (F-statistic):           1.65e-08\n",
       "Time:                        08:19:39   Log-Likelihood:                -1510.7\n",
       "No. Observations:                1198   AIC:                             3029.\n",
       "Df Residuals:                    1194   BIC:                             3050.\n",
       "Df Model:                           3                                         \n",
       "Covariance Type:            nonrobust                                         \n",
       "==============================================================================\n",
       "                 coef    std err          t      P>|t|      [95.0% Conf. Int.]\n",
       "------------------------------------------------------------------------------\n",
       "x1          6.893e-10   3.96e-10      1.740      0.082      -8.8e-11  1.47e-09\n",
       "x2         -3.946e-09    7.5e-10     -5.262      0.000     -5.42e-09 -2.47e-09\n",
       "x3             0.0104      0.002      4.190      0.000         0.006     0.015\n",
       "const        -20.0041      4.941     -4.049      0.000       -29.698   -10.310\n",
       "==============================================================================\n",
       "Omnibus:                     1189.403   Durbin-Watson:                   2.059\n",
       "Prob(Omnibus):                  0.000   Jarque-Bera (JB):            57126.534\n",
       "Skew:                           4.708   Prob(JB):                         0.00\n",
       "Kurtosis:                      35.493   Cond. No.                     2.42e+10\n",
       "==============================================================================\n",
       "\n",
       "Warnings:\n",
       "[1] Standard Errors assume that the covariance matrix of the errors is correctly specified.\n",
       "[2] The condition number is large, 2.42e+10. This might indicate that there are\n",
       "strong multicollinearity or other numerical problems.\n",
       "\"\"\""
      ]
     },
     "execution_count": 180,
     "metadata": {},
     "output_type": "execute_result"
    }
   ],
   "source": [
    "import statsmodels.api as sm\n",
    "\n",
    "model = sm.OLS(Y, X)\n",
    "results = model.fit()\n",
    "results.summary()"
   ]
  },
  {
   "cell_type": "code",
   "execution_count": 23,
   "metadata": {
    "collapsed": true
   },
   "outputs": [],
   "source": [
    "elliot_df = pd.read_csv('../data_files/movies_total.csv', encoding=\"ISO-8859-1\") "
   ]
  },
  {
   "cell_type": "code",
   "execution_count": 24,
   "metadata": {
    "collapsed": false
   },
   "outputs": [
    {
     "data": {
      "text/html": [
       "<div>\n",
       "<table border=\"1\" class=\"dataframe\">\n",
       "  <thead>\n",
       "    <tr style=\"text-align: right;\">\n",
       "      <th></th>\n",
       "      <th>Name</th>\n",
       "      <th>Domestic Gross</th>\n",
       "      <th>Worldwide Gross</th>\n",
       "      <th>Budget</th>\n",
       "      <th>Rating</th>\n",
       "      <th>Release Date</th>\n",
       "      <th>Close date</th>\n",
       "      <th>Opening Weekend</th>\n",
       "      <th>Genre</th>\n",
       "      <th>Theatre Count</th>\n",
       "      <th>Runtime</th>\n",
       "      <th>Distributor</th>\n",
       "      <th>Director</th>\n",
       "      <th>Actors</th>\n",
       "      <th>Unnamed: 14</th>\n",
       "      <th>Unnamed: 15</th>\n",
       "    </tr>\n",
       "  </thead>\n",
       "  <tbody>\n",
       "    <tr>\n",
       "      <th>0</th>\n",
       "      <td>#Horror</td>\n",
       "      <td>NaN</td>\n",
       "      <td>NaN</td>\n",
       "      <td>NaN</td>\n",
       "      <td>Unknown</td>\n",
       "      <td>November 20 2015</td>\n",
       "      <td>NaN</td>\n",
       "      <td>NaN</td>\n",
       "      <td>Horror</td>\n",
       "      <td>NaN</td>\n",
       "      <td>1 hrs. 30 min.</td>\n",
       "      <td>IFC</td>\n",
       "      <td>NaN</td>\n",
       "      <td>&amp;Chloe Sevigny</td>\n",
       "      <td>NaN</td>\n",
       "      <td>NaN</td>\n",
       "    </tr>\n",
       "    <tr>\n",
       "      <th>1</th>\n",
       "      <td>$9.99</td>\n",
       "      <td>52384</td>\n",
       "      <td>$708354</td>\n",
       "      <td>NaN</td>\n",
       "      <td>R</td>\n",
       "      <td>December 12 2008</td>\n",
       "      <td>January 21 2010</td>\n",
       "      <td>478</td>\n",
       "      <td>Animation</td>\n",
       "      <td>4</td>\n",
       "      <td>1 hrs. 18 min.</td>\n",
       "      <td>Regent Releasing</td>\n",
       "      <td>NaN</td>\n",
       "      <td>NaN</td>\n",
       "      <td>NaN</td>\n",
       "      <td>NaN</td>\n",
       "    </tr>\n",
       "    <tr>\n",
       "      <th>2</th>\n",
       "      <td>$upercapitalist</td>\n",
       "      <td>15919</td>\n",
       "      <td>NaN</td>\n",
       "      <td>NaN</td>\n",
       "      <td>Unrated</td>\n",
       "      <td>August 10 2012</td>\n",
       "      <td>August 30 2012</td>\n",
       "      <td>8372</td>\n",
       "      <td>Thriller</td>\n",
       "      <td>1</td>\n",
       "      <td>1 hrs. 36 min.</td>\n",
       "      <td>Truly Indie</td>\n",
       "      <td>NaN</td>\n",
       "      <td>NaN</td>\n",
       "      <td>NaN</td>\n",
       "      <td>NaN</td>\n",
       "    </tr>\n",
       "    <tr>\n",
       "      <th>3</th>\n",
       "      <td>(500) Days of Summer</td>\n",
       "      <td>32391374</td>\n",
       "      <td>$60722734</td>\n",
       "      <td>7500000</td>\n",
       "      <td>PG-13</td>\n",
       "      <td>July 17 2009</td>\n",
       "      <td>November 22 2009</td>\n",
       "      <td>3739702</td>\n",
       "      <td>Romance</td>\n",
       "      <td>1048</td>\n",
       "      <td>1 hrs. 35 min.</td>\n",
       "      <td>Fox Searchlight</td>\n",
       "      <td>&amp;Marc Webb</td>\n",
       "      <td>&amp;Zooey Deschanel&amp;Joseph Gordon-Levitt&amp;Chloe Mo...</td>\n",
       "      <td>NaN</td>\n",
       "      <td>NaN</td>\n",
       "    </tr>\n",
       "    <tr>\n",
       "      <th>4</th>\n",
       "      <td>(Untitled)</td>\n",
       "      <td>230600</td>\n",
       "      <td>NaN</td>\n",
       "      <td>NaN</td>\n",
       "      <td>R</td>\n",
       "      <td>October 23 2009</td>\n",
       "      <td>December 10 2009</td>\n",
       "      <td>18002</td>\n",
       "      <td>Comedy</td>\n",
       "      <td>25</td>\n",
       "      <td>1 hrs. 36 min.</td>\n",
       "      <td>Samuel Goldwyn</td>\n",
       "      <td>NaN</td>\n",
       "      <td>NaN</td>\n",
       "      <td>NaN</td>\n",
       "      <td>NaN</td>\n",
       "    </tr>\n",
       "  </tbody>\n",
       "</table>\n",
       "</div>"
      ],
      "text/plain": [
       "                   Name  Domestic Gross  Worldwide Gross   Budget   Rating  \\\n",
       "0               #Horror             NaN              NaN      NaN  Unknown   \n",
       "1                 $9.99           52384          $708354      NaN        R   \n",
       "2       $upercapitalist           15919              NaN      NaN  Unrated   \n",
       "3  (500) Days of Summer        32391374        $60722734  7500000    PG-13   \n",
       "4            (Untitled)          230600              NaN      NaN        R   \n",
       "\n",
       "       Release Date        Close date          Opening Weekend      Genre  \\\n",
       "0  November 20 2015               NaN                      NaN     Horror   \n",
       "1  December 12 2008   January 21 2010                      478  Animation   \n",
       "2    August 10 2012    August 30 2012                     8372   Thriller   \n",
       "3      July 17 2009  November 22 2009                  3739702    Romance   \n",
       "4   October 23 2009  December 10 2009                    18002     Comedy   \n",
       "\n",
       "    Theatre Count         Runtime       Distributor    Director  \\\n",
       "0             NaN  1 hrs. 30 min.               IFC         NaN   \n",
       "1               4  1 hrs. 18 min.  Regent Releasing         NaN   \n",
       "2               1  1 hrs. 36 min.       Truly Indie         NaN   \n",
       "3            1048  1 hrs. 35 min.   Fox Searchlight  &Marc Webb   \n",
       "4              25  1 hrs. 36 min.    Samuel Goldwyn         NaN   \n",
       "\n",
       "                                              Actors Unnamed: 14 Unnamed: 15  \n",
       "0                                     &Chloe Sevigny         NaN         NaN  \n",
       "1                                                NaN         NaN         NaN  \n",
       "2                                                NaN         NaN         NaN  \n",
       "3  &Zooey Deschanel&Joseph Gordon-Levitt&Chloe Mo...         NaN         NaN  \n",
       "4                                                NaN         NaN         NaN  "
      ]
     },
     "execution_count": 24,
     "metadata": {},
     "output_type": "execute_result"
    }
   ],
   "source": [
    "elliot_df.head()"
   ]
  },
  {
   "cell_type": "code",
   "execution_count": 26,
   "metadata": {
    "collapsed": false
   },
   "outputs": [
    {
     "name": "stdout",
     "output_type": "stream",
     "text": [
      "{'Theatre Count', 'Worldwide Gross', 'Release Date', 'Name', 'Rating', 'Distributor', 'Unnamed: 15', 'Close date', 'Opening Weekend', 'Runtime', 'Genre', 'Director', 'Budget', 'Domestic Gross', 'Unnamed: 14', 'Actors'}\n"
     ]
    }
   ],
   "source": [
    "elliot_df.columns = [column.lstrip() for column in elliot_df.columns]\n",
    "print(set(elliot_df.columns))"
   ]
  },
  {
   "cell_type": "code",
   "execution_count": 27,
   "metadata": {
    "collapsed": true
   },
   "outputs": [],
   "source": [
    "from pprint import pprint"
   ]
  },
  {
   "cell_type": "code",
   "execution_count": 28,
   "metadata": {
    "collapsed": false
   },
   "outputs": [],
   "source": [
    "genre_collapser = {\n",
    "   'Action':'Action',\n",
    "   'Action / Adventure':'Action',\n",
    "   'Action / Crime':'Action',\n",
    "   'Action Comedy':'Action',\n",
    "   'Action Drama':'Action',\n",
    "   'Action Fantasy':'Action',\n",
    "   'Action Horror':'Action',\n",
    "   'Action Thriller':'Action',\n",
    "   'Adventure':'Adventure',\n",
    "   'Adventure Comedy':'Adventure',\n",
    "   'Animation':'Animation',\n",
    "   'Comedy':'Comedy',\n",
    "   'Comedy / Drama':'Comedy',\n",
    "   'Comedy Thriller':'Comedy',\n",
    "   'Concert':'None',\n",
    "   'Crime':'Crime',\n",
    "   'Crime Comedy':'Crime',\n",
    "   'Crime Drama':'Crime',\n",
    "   'Crime Thriller':'Crime',\n",
    "   'Documentary':'Documentary',\n",
    "   'Drama':'Drama',\n",
    "   'Drama / Thriller':'Drama',\n",
    "   'Family':'Family',\n",
    "   'Family Adventure':'Family',\n",
    "   'Family Comedy':'Family',\n",
    "   'Fantasy':'Fantasy',\n",
    "   'Fantasy Comedy':'Fantasy',\n",
    "   'Fantasy Drama':'Fantasy',\n",
    "   'Foreign':'None',\n",
    "   'Foreign / Action':'Action',\n",
    "   'Foreign / Horror':'Horror',\n",
    "   'Historical Drama': 'Drama',\n",
    "    'Historical Epic':'Drama',\n",
    "   'Horror':'Horror',\n",
    "   'Horror Comedy':'Horror',\n",
    "   'Horror Thriller':'Horror',\n",
    "   'IMAX':'None',\n",
    "   'Music Drama':'Musical',\n",
    "   'Musical':'Musical',\n",
    "   'None':'None',\n",
    "   'Period Action':'Action',\n",
    "   'Period Adventure':'Adventure',\n",
    "   'Period Comedy':'Comedy',\n",
    "   'Period Drama':'Drama',\n",
    "   'Romance':'Romance',\n",
    "    'Romantic Adventure': 'Romance',\n",
    "   'Romantic Comedy':'Romantic Comedy',\n",
    "   'Romantic Thriller':'Thriller',\n",
    "   'Sci-Fi':'Sci-Fi',\n",
    "   'Sci-Fi Action':'Sci-Fi',\n",
    "   'Sci-Fi Adventure':'Sci-Fi',\n",
    "   'Sci-Fi Comedy':'Sci-Fi',\n",
    "   'Sci-Fi Fantasy':'Sci-Fi',\n",
    "   'Sci-Fi Horror':'Sci-Fi',\n",
    "   'Sci-Fi Thriller':'Sci-Fi',\n",
    "   'Sports Comedy':'Comedy',\n",
    "   'Sports Drama':'Drama',\n",
    "    'Period Horror':'Horror',\n",
    "    'Sports':'Sports',\n",
    "    'Sports Action':'Action',\n",
    "   'Thriller':'Thriller',\n",
    "   'Unknown':'None',\n",
    "   'War':'War',\n",
    "    'War Romance':'Romance',\n",
    "   'War Drama':'War',\n",
    "   'Western':'Western',\n",
    "   'Western Comedy':'Western'\n",
    "}"
   ]
  },
  {
   "cell_type": "code",
   "execution_count": 30,
   "metadata": {
    "collapsed": false
   },
   "outputs": [],
   "source": [
    "for i in range(len(elliot_df['Genre'])):\n",
    "    elliot_df.ix[i,'Genre'] = genre_collapser[elliot_df.ix[i,'Genre']]\n"
   ]
  },
  {
   "cell_type": "code",
   "execution_count": 31,
   "metadata": {
    "collapsed": false
   },
   "outputs": [],
   "source": [
    "elliot_df['Name'] = [\"\".join(name.split('$')) for name in elliot_df['Name']]"
   ]
  },
  {
   "cell_type": "code",
   "execution_count": 32,
   "metadata": {
    "collapsed": false
   },
   "outputs": [
    {
     "data": {
      "text/plain": [
       "0                                                  #Horror\n",
       "1                                                     9.99\n",
       "2                                           upercapitalist\n",
       "3                                     (500) Days of Summer\n",
       "4                                               (Untitled)\n",
       "5                                   ...And Justice for All\n",
       "6                                             1 Mile Above\n",
       "7                                                   1+1=11\n",
       "8                                   1&000 Times Good Night\n",
       "9                                                       10\n",
       "10                                     10 Cloverfield Lane\n",
       "11                                   10 Days in a Madhouse\n",
       "12                                        10 Items or Less\n",
       "13                         10 Questions for the Dalai Lama\n",
       "14                            10 Rules for Sleeping Around\n",
       "15                              10 Things I Hate About You\n",
       "16                                          10 to Midnight\n",
       "17                                                10 Years\n",
       "18                                             10&000 B.C.\n",
       "19                                               10&000 Km\n",
       "20                                        100 Bloody Acres\n",
       "21       The 100-Year Old Man Who Climbed Out the Windo...\n",
       "22                                              1001 Grams\n",
       "23                                          101 Dalmatians\n",
       "24                                   101 Dalmatians (1996)\n",
       "25                                   101 Dalmatians (1969)\n",
       "26                                   101 Dalmatians (1979)\n",
       "27                                   101 Dalmatians (1985)\n",
       "28                                   101 Dalmatians (1991)\n",
       "29                                           101 Reykjavik\n",
       "                               ...                        \n",
       "16274                                           Zerophilia\n",
       "16275                                     Zeus and Roxanne\n",
       "16276                                      Zhou Yu's Train\n",
       "16277                                       Ziggy Stardust\n",
       "16278                                               ZigZag\n",
       "16279                                                Zinda\n",
       "16280                             Zindagi Na Milegi Dobara\n",
       "16281                                        Zindagi Rocks\n",
       "16282                                               Zizek!\n",
       "16283                                           The Zodiac\n",
       "16284                                               Zodiac\n",
       "16285                                             Zokkomon\n",
       "16286                                           Zombeavers\n",
       "16287                                          Zombie Dawn\n",
       "16288                                          Zombie High\n",
       "16289                                    A Zombie Invasion\n",
       "16290                                           Zombieland\n",
       "16291                                                  Zoo\n",
       "16292                                            Zookeeper\n",
       "16293                                            Zoolander\n",
       "16294                                          Zoolander 2\n",
       "16295                                                 Zoom\n",
       "16296                                            Zoot Suit\n",
       "16297                                             Zootopia\n",
       "16298                                 Zorro& the Gay Blade\n",
       "16299                                          Zu Warriors\n",
       "16300                                                 Zulu\n",
       "16301                                            Zulu Dawn\n",
       "16302                                             Zus & Zo\n",
       "16303                                          Zyzzyx Road\n",
       "Name: Name, dtype: object"
      ]
     },
     "execution_count": 32,
     "metadata": {},
     "output_type": "execute_result"
    }
   ],
   "source": [
    "#elliot_df['Name'] = [name.replace('&', \",\") for name in elliot_df['Name']]\n",
    "elliot_df['Name'] = [\"\".join(name.split(' (Re-issue)')) for name in elliot_df['Name']]\n",
    "elliot_df['Name']"
   ]
  },
  {
   "cell_type": "code",
   "execution_count": 90,
   "metadata": {
    "collapsed": false
   },
   "outputs": [],
   "source": [
    "# peter_df = pd.concat([elliot_df['Name'], elliot_df['Release Date'], elliot_df['Budget']], axis=1)"
   ]
  },
  {
   "cell_type": "code",
   "execution_count": 93,
   "metadata": {
    "collapsed": false
   },
   "outputs": [],
   "source": [
    "# peter_df.to_csv('peter_df', sep=',')\n",
    "\n",
    "# peter_df.head()"
   ]
  },
  {
   "cell_type": "code",
   "execution_count": 36,
   "metadata": {
    "collapsed": false
   },
   "outputs": [
    {
     "data": {
      "text/html": [
       "<div>\n",
       "<table border=\"1\" class=\"dataframe\">\n",
       "  <thead>\n",
       "    <tr style=\"text-align: right;\">\n",
       "      <th></th>\n",
       "      <th>Name</th>\n",
       "      <th>Domestic Gross</th>\n",
       "      <th>Worldwide Gross</th>\n",
       "      <th>Budget</th>\n",
       "      <th>Rating</th>\n",
       "      <th>Release Date</th>\n",
       "      <th>Close date</th>\n",
       "      <th>Opening Weekend</th>\n",
       "      <th>Genre</th>\n",
       "      <th>Theatre Count</th>\n",
       "      <th>Runtime</th>\n",
       "      <th>Distributor</th>\n",
       "      <th>Director</th>\n",
       "      <th>Actors</th>\n",
       "      <th>Unnamed: 14</th>\n",
       "      <th>Unnamed: 15</th>\n",
       "      <th>movie</th>\n",
       "    </tr>\n",
       "  </thead>\n",
       "  <tbody>\n",
       "    <tr>\n",
       "      <th>0</th>\n",
       "      <td>#Horror</td>\n",
       "      <td>NaN</td>\n",
       "      <td>NaN</td>\n",
       "      <td>NaN</td>\n",
       "      <td>Unknown</td>\n",
       "      <td>2015</td>\n",
       "      <td>NaN</td>\n",
       "      <td>NaN</td>\n",
       "      <td>Horror</td>\n",
       "      <td>NaN</td>\n",
       "      <td>1 hrs. 30 min.</td>\n",
       "      <td>IFC</td>\n",
       "      <td>NaN</td>\n",
       "      <td>&amp;Chloe Sevigny</td>\n",
       "      <td>NaN</td>\n",
       "      <td>NaN</td>\n",
       "      <td>2015 #Horror</td>\n",
       "    </tr>\n",
       "    <tr>\n",
       "      <th>1</th>\n",
       "      <td>9.99</td>\n",
       "      <td>52384</td>\n",
       "      <td>$708354</td>\n",
       "      <td>NaN</td>\n",
       "      <td>R</td>\n",
       "      <td>2008</td>\n",
       "      <td>January 21 2010</td>\n",
       "      <td>478</td>\n",
       "      <td>Animation</td>\n",
       "      <td>4</td>\n",
       "      <td>1 hrs. 18 min.</td>\n",
       "      <td>Regent Releasing</td>\n",
       "      <td>NaN</td>\n",
       "      <td>NaN</td>\n",
       "      <td>NaN</td>\n",
       "      <td>NaN</td>\n",
       "      <td>2008 9.99</td>\n",
       "    </tr>\n",
       "    <tr>\n",
       "      <th>2</th>\n",
       "      <td>upercapitalist</td>\n",
       "      <td>15919</td>\n",
       "      <td>NaN</td>\n",
       "      <td>NaN</td>\n",
       "      <td>Unrated</td>\n",
       "      <td>2012</td>\n",
       "      <td>August 30 2012</td>\n",
       "      <td>8372</td>\n",
       "      <td>Thriller</td>\n",
       "      <td>1</td>\n",
       "      <td>1 hrs. 36 min.</td>\n",
       "      <td>Truly Indie</td>\n",
       "      <td>NaN</td>\n",
       "      <td>NaN</td>\n",
       "      <td>NaN</td>\n",
       "      <td>NaN</td>\n",
       "      <td>2012 upercapitalist</td>\n",
       "    </tr>\n",
       "    <tr>\n",
       "      <th>3</th>\n",
       "      <td>(500) Days of Summer</td>\n",
       "      <td>32391374</td>\n",
       "      <td>$60722734</td>\n",
       "      <td>7500000</td>\n",
       "      <td>PG-13</td>\n",
       "      <td>2009</td>\n",
       "      <td>November 22 2009</td>\n",
       "      <td>3739702</td>\n",
       "      <td>Romance</td>\n",
       "      <td>1048</td>\n",
       "      <td>1 hrs. 35 min.</td>\n",
       "      <td>Fox Searchlight</td>\n",
       "      <td>&amp;Marc Webb</td>\n",
       "      <td>&amp;Zooey Deschanel&amp;Joseph Gordon-Levitt&amp;Chloe Mo...</td>\n",
       "      <td>NaN</td>\n",
       "      <td>NaN</td>\n",
       "      <td>2009 (500) Days of Summer</td>\n",
       "    </tr>\n",
       "    <tr>\n",
       "      <th>4</th>\n",
       "      <td>(Untitled)</td>\n",
       "      <td>230600</td>\n",
       "      <td>NaN</td>\n",
       "      <td>NaN</td>\n",
       "      <td>R</td>\n",
       "      <td>2009</td>\n",
       "      <td>December 10 2009</td>\n",
       "      <td>18002</td>\n",
       "      <td>Comedy</td>\n",
       "      <td>25</td>\n",
       "      <td>1 hrs. 36 min.</td>\n",
       "      <td>Samuel Goldwyn</td>\n",
       "      <td>NaN</td>\n",
       "      <td>NaN</td>\n",
       "      <td>NaN</td>\n",
       "      <td>NaN</td>\n",
       "      <td>2009 (Untitled)</td>\n",
       "    </tr>\n",
       "  </tbody>\n",
       "</table>\n",
       "</div>"
      ],
      "text/plain": [
       "                   Name Domestic Gross Worldwide Gross   Budget   Rating  \\\n",
       "0               #Horror            NaN             NaN      NaN  Unknown   \n",
       "1                  9.99          52384         $708354      NaN        R   \n",
       "2        upercapitalist          15919             NaN      NaN  Unrated   \n",
       "3  (500) Days of Summer       32391374       $60722734  7500000    PG-13   \n",
       "4            (Untitled)         230600             NaN      NaN        R   \n",
       "\n",
       "  Release Date        Close date Opening Weekend      Genre  Theatre Count  \\\n",
       "0         2015               NaN             NaN     Horror            NaN   \n",
       "1         2008   January 21 2010             478  Animation              4   \n",
       "2         2012    August 30 2012            8372   Thriller              1   \n",
       "3         2009  November 22 2009         3739702    Romance           1048   \n",
       "4         2009  December 10 2009           18002     Comedy             25   \n",
       "\n",
       "          Runtime       Distributor    Director  \\\n",
       "0  1 hrs. 30 min.               IFC         NaN   \n",
       "1  1 hrs. 18 min.  Regent Releasing         NaN   \n",
       "2  1 hrs. 36 min.       Truly Indie         NaN   \n",
       "3  1 hrs. 35 min.   Fox Searchlight  &Marc Webb   \n",
       "4  1 hrs. 36 min.    Samuel Goldwyn         NaN   \n",
       "\n",
       "                                              Actors Unnamed: 14 Unnamed: 15  \\\n",
       "0                                     &Chloe Sevigny         NaN         NaN   \n",
       "1                                                NaN         NaN         NaN   \n",
       "2                                                NaN         NaN         NaN   \n",
       "3  &Zooey Deschanel&Joseph Gordon-Levitt&Chloe Mo...         NaN         NaN   \n",
       "4                                                NaN         NaN         NaN   \n",
       "\n",
       "                       movie  \n",
       "0               2015 #Horror  \n",
       "1                  2008 9.99  \n",
       "2        2012 upercapitalist  \n",
       "3  2009 (500) Days of Summer  \n",
       "4            2009 (Untitled)  "
      ]
     },
     "execution_count": 36,
     "metadata": {},
     "output_type": "execute_result"
    }
   ],
   "source": [
    "\n",
    "\n",
    "\n",
    "type(elliot_df['Release Date'][1])\n",
    "elliot_df['Release Date']= [str(date)[-4:] for date in elliot_df['Release Date'] if not date == 'NaN']\n",
    "\n",
    "elliot_df['movie'] = elliot_df[\"Release Date\"].map(str) + \" \" + elliot_df[\"Name\"]\n",
    "\n",
    "elliot_df.head()"
   ]
  },
  {
   "cell_type": "code",
   "execution_count": 37,
   "metadata": {
    "collapsed": false
   },
   "outputs": [],
   "source": [
    "'''pull out relevant columns from elliot's df with df_new_reduced'''\n",
    "df_to_merge = pd.concat([elliot_df['movie'], elliot_df['Genre'], elliot_df['Rating']], axis= 1, keys = ['movie', 'genre', 'rating'])"
   ]
  },
  {
   "cell_type": "code",
   "execution_count": 181,
   "metadata": {
    "collapsed": false
   },
   "outputs": [
    {
     "name": "stdout",
     "output_type": "stream",
     "text": [
      "budget         int64\n",
      "dom gross      int64\n",
      "movie         object\n",
      "ratio        float64\n",
      "year           int64\n",
      "script_id      int64\n",
      "genre         object\n",
      "rating        object\n",
      "dtype: object\n"
     ]
    }
   ],
   "source": [
    "'''merge my relevant columns and elliots relevant columns to produce variable table'''\n",
    "\n",
    "df_reduced_merged = pd.merge(df_new_reduced, df_to_merge, on=['movie'])\n",
    "\n",
    "print(df_reduced_merged.dtypes)\n"
   ]
  },
  {
   "cell_type": "code",
   "execution_count": 39,
   "metadata": {
    "collapsed": false
   },
   "outputs": [
    {
     "data": {
      "text/html": [
       "<div>\n",
       "<table border=\"1\" class=\"dataframe\">\n",
       "  <thead>\n",
       "    <tr style=\"text-align: right;\">\n",
       "      <th></th>\n",
       "      <th>genre_Action</th>\n",
       "      <th>genre_Adventure</th>\n",
       "      <th>genre_Animation</th>\n",
       "      <th>genre_Comedy</th>\n",
       "      <th>genre_Crime</th>\n",
       "      <th>genre_Drama</th>\n",
       "      <th>genre_Family</th>\n",
       "      <th>genre_Fantasy</th>\n",
       "      <th>genre_Horror</th>\n",
       "      <th>genre_Musical</th>\n",
       "      <th>genre_None</th>\n",
       "      <th>genre_Romance</th>\n",
       "      <th>genre_Romantic Comedy</th>\n",
       "      <th>genre_Sci-Fi</th>\n",
       "      <th>genre_Thriller</th>\n",
       "      <th>genre_War</th>\n",
       "      <th>genre_Western</th>\n",
       "    </tr>\n",
       "  </thead>\n",
       "  <tbody>\n",
       "    <tr>\n",
       "      <th>0</th>\n",
       "      <td>0</td>\n",
       "      <td>0</td>\n",
       "      <td>0</td>\n",
       "      <td>0</td>\n",
       "      <td>0</td>\n",
       "      <td>0</td>\n",
       "      <td>0</td>\n",
       "      <td>0</td>\n",
       "      <td>0</td>\n",
       "      <td>0</td>\n",
       "      <td>0</td>\n",
       "      <td>0</td>\n",
       "      <td>0</td>\n",
       "      <td>1</td>\n",
       "      <td>0</td>\n",
       "      <td>0</td>\n",
       "      <td>0</td>\n",
       "    </tr>\n",
       "    <tr>\n",
       "      <th>1</th>\n",
       "      <td>1</td>\n",
       "      <td>0</td>\n",
       "      <td>0</td>\n",
       "      <td>0</td>\n",
       "      <td>0</td>\n",
       "      <td>0</td>\n",
       "      <td>0</td>\n",
       "      <td>0</td>\n",
       "      <td>0</td>\n",
       "      <td>0</td>\n",
       "      <td>0</td>\n",
       "      <td>0</td>\n",
       "      <td>0</td>\n",
       "      <td>0</td>\n",
       "      <td>0</td>\n",
       "      <td>0</td>\n",
       "      <td>0</td>\n",
       "    </tr>\n",
       "    <tr>\n",
       "      <th>2</th>\n",
       "      <td>0</td>\n",
       "      <td>0</td>\n",
       "      <td>0</td>\n",
       "      <td>0</td>\n",
       "      <td>0</td>\n",
       "      <td>0</td>\n",
       "      <td>0</td>\n",
       "      <td>1</td>\n",
       "      <td>0</td>\n",
       "      <td>0</td>\n",
       "      <td>0</td>\n",
       "      <td>0</td>\n",
       "      <td>0</td>\n",
       "      <td>0</td>\n",
       "      <td>0</td>\n",
       "      <td>0</td>\n",
       "      <td>0</td>\n",
       "    </tr>\n",
       "    <tr>\n",
       "      <th>3</th>\n",
       "      <td>0</td>\n",
       "      <td>1</td>\n",
       "      <td>0</td>\n",
       "      <td>0</td>\n",
       "      <td>0</td>\n",
       "      <td>0</td>\n",
       "      <td>0</td>\n",
       "      <td>0</td>\n",
       "      <td>0</td>\n",
       "      <td>0</td>\n",
       "      <td>0</td>\n",
       "      <td>0</td>\n",
       "      <td>0</td>\n",
       "      <td>0</td>\n",
       "      <td>0</td>\n",
       "      <td>0</td>\n",
       "      <td>0</td>\n",
       "    </tr>\n",
       "    <tr>\n",
       "      <th>4</th>\n",
       "      <td>0</td>\n",
       "      <td>0</td>\n",
       "      <td>0</td>\n",
       "      <td>0</td>\n",
       "      <td>0</td>\n",
       "      <td>0</td>\n",
       "      <td>0</td>\n",
       "      <td>0</td>\n",
       "      <td>0</td>\n",
       "      <td>0</td>\n",
       "      <td>0</td>\n",
       "      <td>1</td>\n",
       "      <td>0</td>\n",
       "      <td>0</td>\n",
       "      <td>0</td>\n",
       "      <td>0</td>\n",
       "      <td>0</td>\n",
       "    </tr>\n",
       "  </tbody>\n",
       "</table>\n",
       "</div>"
      ],
      "text/plain": [
       "   genre_Action  genre_Adventure  genre_Animation  genre_Comedy  genre_Crime  \\\n",
       "0             0                0                0             0            0   \n",
       "1             1                0                0             0            0   \n",
       "2             0                0                0             0            0   \n",
       "3             0                1                0             0            0   \n",
       "4             0                0                0             0            0   \n",
       "\n",
       "   genre_Drama  genre_Family  genre_Fantasy  genre_Horror  genre_Musical  \\\n",
       "0            0             0              0             0              0   \n",
       "1            0             0              0             0              0   \n",
       "2            0             0              1             0              0   \n",
       "3            0             0              0             0              0   \n",
       "4            0             0              0             0              0   \n",
       "\n",
       "   genre_None  genre_Romance  genre_Romantic Comedy  genre_Sci-Fi  \\\n",
       "0           0              0                      0             1   \n",
       "1           0              0                      0             0   \n",
       "2           0              0                      0             0   \n",
       "3           0              0                      0             0   \n",
       "4           0              1                      0             0   \n",
       "\n",
       "   genre_Thriller  genre_War  genre_Western  \n",
       "0               0          0              0  \n",
       "1               0          0              0  \n",
       "2               0          0              0  \n",
       "3               0          0              0  \n",
       "4               0          0              0  "
      ]
     },
     "execution_count": 39,
     "metadata": {},
     "output_type": "execute_result"
    }
   ],
   "source": [
    "'''generate dummy values for genres'''\n",
    "df_dummies = pd.get_dummies(df_reduced_merged['genre'], prefix='genre')\n",
    "df_dummies.head()"
   ]
  },
  {
   "cell_type": "code",
   "execution_count": 182,
   "metadata": {
    "collapsed": true
   },
   "outputs": [],
   "source": [
    "for genre in set(df_reduced_merged['genre']): #loop thru set of genres\n",
    "    df_reduced_merged['genre: ' + genre] = df_dummies['genre_' + genre] #create new column in df and fill w/ correct column from df_genre"
   ]
  },
  {
   "cell_type": "code",
   "execution_count": 77,
   "metadata": {
    "collapsed": false
   },
   "outputs": [],
   "source": [
    "#df_reduced_merged['intercept'] = np.ones(len(df_reduced_merged))\n",
    "#print(df_reduced_merged.columns)\n",
    "#print(df_reduced_merged['intercept'])"
   ]
  },
  {
   "cell_type": "code",
   "execution_count": 183,
   "metadata": {
    "collapsed": false
   },
   "outputs": [
    {
     "name": "stderr",
     "output_type": "stream",
     "text": [
      "/Users/hannahdeen/anaconda3/lib/python3.5/site-packages/matplotlib/axes/_base.py:2787: UserWarning: Attempting to set identical left==right results\n",
      "in singular transformations; automatically expanding.\n",
      "left=1.0, right=1.0\n",
      "  'left=%s, right=%s') % (left, right))\n",
      "/Users/hannahdeen/anaconda3/lib/python3.5/site-packages/matplotlib/axes/_base.py:3045: UserWarning: Attempting to set identical bottom==top results\n",
      "in singular transformations; automatically expanding.\n",
      "bottom=1.0, top=1.0\n",
      "  'bottom=%s, top=%s') % (bottom, top))\n"
     ]
    },
    {
     "ename": "LinAlgError",
     "evalue": "singular matrix",
     "output_type": "error",
     "traceback": [
      "\u001b[0;31m---------------------------------------------------------------------------\u001b[0m",
      "\u001b[0;31mLinAlgError\u001b[0m                               Traceback (most recent call last)",
      "\u001b[0;32m<ipython-input-183-046e12894f1e>\u001b[0m in \u001b[0;36m<module>\u001b[0;34m()\u001b[0m\n\u001b[0;32m----> 1\u001b[0;31m \u001b[0mscatter_matrix\u001b[0m\u001b[0;34m(\u001b[0m\u001b[0mtest_reduced_merged\u001b[0m\u001b[0;34m.\u001b[0m\u001b[0miloc\u001b[0m\u001b[0;34m[\u001b[0m\u001b[0;34m:\u001b[0m\u001b[0;34m,\u001b[0m\u001b[0;34m:\u001b[0m\u001b[0;34m-\u001b[0m\u001b[0;36m1\u001b[0m\u001b[0;34m]\u001b[0m\u001b[0;34m,\u001b[0m \u001b[0malpha\u001b[0m\u001b[0;34m=\u001b[0m\u001b[0;36m0.2\u001b[0m\u001b[0;34m,\u001b[0m \u001b[0mfigsize\u001b[0m\u001b[0;34m=\u001b[0m\u001b[0;34m(\u001b[0m\u001b[0;36m10\u001b[0m\u001b[0;34m,\u001b[0m\u001b[0;36m10\u001b[0m\u001b[0;34m)\u001b[0m\u001b[0;34m,\u001b[0m \u001b[0mdiagonal\u001b[0m\u001b[0;34m=\u001b[0m\u001b[0;34m'kde'\u001b[0m\u001b[0;34m)\u001b[0m\u001b[0;34m\u001b[0m\u001b[0m\n\u001b[0m\u001b[1;32m      2\u001b[0m \u001b[0mplt\u001b[0m\u001b[0;34m.\u001b[0m\u001b[0mshow\u001b[0m\u001b[0;34m\u001b[0m\u001b[0m\n",
      "\u001b[0;32m/Users/hannahdeen/anaconda3/lib/python3.5/site-packages/pandas/tools/plotting.py\u001b[0m in \u001b[0;36mscatter_matrix\u001b[0;34m(frame, alpha, figsize, ax, grid, diagonal, marker, density_kwds, hist_kwds, range_padding, **kwds)\u001b[0m\n\u001b[1;32m    359\u001b[0m                     \u001b[0;32mfrom\u001b[0m \u001b[0mscipy\u001b[0m\u001b[0;34m.\u001b[0m\u001b[0mstats\u001b[0m \u001b[0;32mimport\u001b[0m \u001b[0mgaussian_kde\u001b[0m\u001b[0;34m\u001b[0m\u001b[0m\n\u001b[1;32m    360\u001b[0m                     \u001b[0my\u001b[0m \u001b[0;34m=\u001b[0m \u001b[0mvalues\u001b[0m\u001b[0;34m\u001b[0m\u001b[0m\n\u001b[0;32m--> 361\u001b[0;31m                     \u001b[0mgkde\u001b[0m \u001b[0;34m=\u001b[0m \u001b[0mgaussian_kde\u001b[0m\u001b[0;34m(\u001b[0m\u001b[0my\u001b[0m\u001b[0;34m)\u001b[0m\u001b[0;34m\u001b[0m\u001b[0m\n\u001b[0m\u001b[1;32m    362\u001b[0m                     \u001b[0mind\u001b[0m \u001b[0;34m=\u001b[0m \u001b[0mnp\u001b[0m\u001b[0;34m.\u001b[0m\u001b[0mlinspace\u001b[0m\u001b[0;34m(\u001b[0m\u001b[0my\u001b[0m\u001b[0;34m.\u001b[0m\u001b[0mmin\u001b[0m\u001b[0;34m(\u001b[0m\u001b[0;34m)\u001b[0m\u001b[0;34m,\u001b[0m \u001b[0my\u001b[0m\u001b[0;34m.\u001b[0m\u001b[0mmax\u001b[0m\u001b[0;34m(\u001b[0m\u001b[0;34m)\u001b[0m\u001b[0;34m,\u001b[0m \u001b[0;36m1000\u001b[0m\u001b[0;34m)\u001b[0m\u001b[0;34m\u001b[0m\u001b[0m\n\u001b[1;32m    363\u001b[0m                     \u001b[0max\u001b[0m\u001b[0;34m.\u001b[0m\u001b[0mplot\u001b[0m\u001b[0;34m(\u001b[0m\u001b[0mind\u001b[0m\u001b[0;34m,\u001b[0m \u001b[0mgkde\u001b[0m\u001b[0;34m.\u001b[0m\u001b[0mevaluate\u001b[0m\u001b[0;34m(\u001b[0m\u001b[0mind\u001b[0m\u001b[0;34m)\u001b[0m\u001b[0;34m,\u001b[0m \u001b[0;34m**\u001b[0m\u001b[0mdensity_kwds\u001b[0m\u001b[0;34m)\u001b[0m\u001b[0;34m\u001b[0m\u001b[0m\n",
      "\u001b[0;32m/Users/hannahdeen/anaconda3/lib/python3.5/site-packages/scipy/stats/kde.py\u001b[0m in \u001b[0;36m__init__\u001b[0;34m(self, dataset, bw_method)\u001b[0m\n\u001b[1;32m    169\u001b[0m \u001b[0;34m\u001b[0m\u001b[0m\n\u001b[1;32m    170\u001b[0m         \u001b[0mself\u001b[0m\u001b[0;34m.\u001b[0m\u001b[0md\u001b[0m\u001b[0;34m,\u001b[0m \u001b[0mself\u001b[0m\u001b[0;34m.\u001b[0m\u001b[0mn\u001b[0m \u001b[0;34m=\u001b[0m \u001b[0mself\u001b[0m\u001b[0;34m.\u001b[0m\u001b[0mdataset\u001b[0m\u001b[0;34m.\u001b[0m\u001b[0mshape\u001b[0m\u001b[0;34m\u001b[0m\u001b[0m\n\u001b[0;32m--> 171\u001b[0;31m         \u001b[0mself\u001b[0m\u001b[0;34m.\u001b[0m\u001b[0mset_bandwidth\u001b[0m\u001b[0;34m(\u001b[0m\u001b[0mbw_method\u001b[0m\u001b[0;34m=\u001b[0m\u001b[0mbw_method\u001b[0m\u001b[0;34m)\u001b[0m\u001b[0;34m\u001b[0m\u001b[0m\n\u001b[0m\u001b[1;32m    172\u001b[0m \u001b[0;34m\u001b[0m\u001b[0m\n\u001b[1;32m    173\u001b[0m     \u001b[0;32mdef\u001b[0m \u001b[0mevaluate\u001b[0m\u001b[0;34m(\u001b[0m\u001b[0mself\u001b[0m\u001b[0;34m,\u001b[0m \u001b[0mpoints\u001b[0m\u001b[0;34m)\u001b[0m\u001b[0;34m:\u001b[0m\u001b[0;34m\u001b[0m\u001b[0m\n",
      "\u001b[0;32m/Users/hannahdeen/anaconda3/lib/python3.5/site-packages/scipy/stats/kde.py\u001b[0m in \u001b[0;36mset_bandwidth\u001b[0;34m(self, bw_method)\u001b[0m\n\u001b[1;32m    496\u001b[0m             \u001b[0;32mraise\u001b[0m \u001b[0mValueError\u001b[0m\u001b[0;34m(\u001b[0m\u001b[0mmsg\u001b[0m\u001b[0;34m)\u001b[0m\u001b[0;34m\u001b[0m\u001b[0m\n\u001b[1;32m    497\u001b[0m \u001b[0;34m\u001b[0m\u001b[0m\n\u001b[0;32m--> 498\u001b[0;31m         \u001b[0mself\u001b[0m\u001b[0;34m.\u001b[0m\u001b[0m_compute_covariance\u001b[0m\u001b[0;34m(\u001b[0m\u001b[0;34m)\u001b[0m\u001b[0;34m\u001b[0m\u001b[0m\n\u001b[0m\u001b[1;32m    499\u001b[0m \u001b[0;34m\u001b[0m\u001b[0m\n\u001b[1;32m    500\u001b[0m     \u001b[0;32mdef\u001b[0m \u001b[0m_compute_covariance\u001b[0m\u001b[0;34m(\u001b[0m\u001b[0mself\u001b[0m\u001b[0;34m)\u001b[0m\u001b[0;34m:\u001b[0m\u001b[0;34m\u001b[0m\u001b[0m\n",
      "\u001b[0;32m/Users/hannahdeen/anaconda3/lib/python3.5/site-packages/scipy/stats/kde.py\u001b[0m in \u001b[0;36m_compute_covariance\u001b[0;34m(self)\u001b[0m\n\u001b[1;32m    507\u001b[0m             self._data_covariance = atleast_2d(np.cov(self.dataset, rowvar=1,\n\u001b[1;32m    508\u001b[0m                                                bias=False))\n\u001b[0;32m--> 509\u001b[0;31m             \u001b[0mself\u001b[0m\u001b[0;34m.\u001b[0m\u001b[0m_data_inv_cov\u001b[0m \u001b[0;34m=\u001b[0m \u001b[0mlinalg\u001b[0m\u001b[0;34m.\u001b[0m\u001b[0minv\u001b[0m\u001b[0;34m(\u001b[0m\u001b[0mself\u001b[0m\u001b[0;34m.\u001b[0m\u001b[0m_data_covariance\u001b[0m\u001b[0;34m)\u001b[0m\u001b[0;34m\u001b[0m\u001b[0m\n\u001b[0m\u001b[1;32m    510\u001b[0m \u001b[0;34m\u001b[0m\u001b[0m\n\u001b[1;32m    511\u001b[0m         \u001b[0mself\u001b[0m\u001b[0;34m.\u001b[0m\u001b[0mcovariance\u001b[0m \u001b[0;34m=\u001b[0m \u001b[0mself\u001b[0m\u001b[0;34m.\u001b[0m\u001b[0m_data_covariance\u001b[0m \u001b[0;34m*\u001b[0m \u001b[0mself\u001b[0m\u001b[0;34m.\u001b[0m\u001b[0mfactor\u001b[0m\u001b[0;34m**\u001b[0m\u001b[0;36m2\u001b[0m\u001b[0;34m\u001b[0m\u001b[0m\n",
      "\u001b[0;32m/Users/hannahdeen/anaconda3/lib/python3.5/site-packages/scipy/linalg/basic.py\u001b[0m in \u001b[0;36minv\u001b[0;34m(a, overwrite_a, check_finite)\u001b[0m\n\u001b[1;32m    685\u001b[0m         \u001b[0minv_a\u001b[0m\u001b[0;34m,\u001b[0m \u001b[0minfo\u001b[0m \u001b[0;34m=\u001b[0m \u001b[0mgetri\u001b[0m\u001b[0;34m(\u001b[0m\u001b[0mlu\u001b[0m\u001b[0;34m,\u001b[0m \u001b[0mpiv\u001b[0m\u001b[0;34m,\u001b[0m \u001b[0mlwork\u001b[0m\u001b[0;34m=\u001b[0m\u001b[0mlwork\u001b[0m\u001b[0;34m,\u001b[0m \u001b[0moverwrite_lu\u001b[0m\u001b[0;34m=\u001b[0m\u001b[0;36m1\u001b[0m\u001b[0;34m)\u001b[0m\u001b[0;34m\u001b[0m\u001b[0m\n\u001b[1;32m    686\u001b[0m     \u001b[0;32mif\u001b[0m \u001b[0minfo\u001b[0m \u001b[0;34m>\u001b[0m \u001b[0;36m0\u001b[0m\u001b[0;34m:\u001b[0m\u001b[0;34m\u001b[0m\u001b[0m\n\u001b[0;32m--> 687\u001b[0;31m         \u001b[0;32mraise\u001b[0m \u001b[0mLinAlgError\u001b[0m\u001b[0;34m(\u001b[0m\u001b[0;34m\"singular matrix\"\u001b[0m\u001b[0;34m)\u001b[0m\u001b[0;34m\u001b[0m\u001b[0m\n\u001b[0m\u001b[1;32m    688\u001b[0m     \u001b[0;32mif\u001b[0m \u001b[0minfo\u001b[0m \u001b[0;34m<\u001b[0m \u001b[0;36m0\u001b[0m\u001b[0;34m:\u001b[0m\u001b[0;34m\u001b[0m\u001b[0m\n\u001b[1;32m    689\u001b[0m         raise ValueError('illegal value in %d-th argument of internal '\n",
      "\u001b[0;31mLinAlgError\u001b[0m: singular matrix"
     ]
    },
    {
     "data": {
      "image/png": "[encoded data removed]",
      "text/plain": [
       "<matplotlib.figure.Figure at 0x125a304a8>"
      ]
     },
     "metadata": {},
     "output_type": "display_data"
    }
   ],
   "source": [
    "scatter_matrix(test_reduced_merged.iloc[:,:-1], alpha=0.2, figsize=(10,10), diagonal='kde')\n",
    "plt.show"
   ]
  },
  {
   "cell_type": "code",
   "execution_count": 186,
   "metadata": {
    "collapsed": false
   },
   "outputs": [
    {
     "data": {
      "text/html": [
       "<table class=\"simpletable\">\n",
       "<caption>OLS Regression Results</caption>\n",
       "<tr>\n",
       "  <th>Dep. Variable:</th>            <td>y</td>        <th>  R-squared:         </th> <td>   0.394</td> \n",
       "</tr>\n",
       "<tr>\n",
       "  <th>Model:</th>                   <td>OLS</td>       <th>  Adj. R-squared:    </th> <td>   0.392</td> \n",
       "</tr>\n",
       "<tr>\n",
       "  <th>Method:</th>             <td>Least Squares</td>  <th>  F-statistic:       </th> <td>   227.9</td> \n",
       "</tr>\n",
       "<tr>\n",
       "  <th>Date:</th>             <td>Fri, 22 Apr 2016</td> <th>  Prob (F-statistic):</th> <td>6.36e-114</td>\n",
       "</tr>\n",
       "<tr>\n",
       "  <th>Time:</th>                 <td>08:21:40</td>     <th>  Log-Likelihood:    </th> <td> -20449.</td> \n",
       "</tr>\n",
       "<tr>\n",
       "  <th>No. Observations:</th>      <td>  1057</td>      <th>  AIC:               </th> <td>4.091e+04</td>\n",
       "</tr>\n",
       "<tr>\n",
       "  <th>Df Residuals:</th>          <td>  1053</td>      <th>  BIC:               </th> <td>4.093e+04</td>\n",
       "</tr>\n",
       "<tr>\n",
       "  <th>Df Model:</th>              <td>     3</td>      <th>                     </th>     <td> </td>    \n",
       "</tr>\n",
       "<tr>\n",
       "  <th>Covariance Type:</th>      <td>nonrobust</td>    <th>                     </th>     <td> </td>    \n",
       "</tr>\n",
       "</table>\n",
       "<table class=\"simpletable\">\n",
       "<tr>\n",
       "    <td></td>       <th>coef</th>     <th>std err</th>      <th>t</th>      <th>P>|t|</th> <th>[95.0% Conf. Int.]</th> \n",
       "</tr>\n",
       "<tr>\n",
       "  <th>x1</th>    <td>    1.1957</td> <td>    0.046</td> <td>   26.036</td> <td> 0.000</td> <td>    1.106     1.286</td>\n",
       "</tr>\n",
       "<tr>\n",
       "  <th>x2</th>    <td>-9.292e+05</td> <td> 1.92e+05</td> <td>   -4.849</td> <td> 0.000</td> <td>-1.31e+06 -5.53e+05</td>\n",
       "</tr>\n",
       "<tr>\n",
       "  <th>x3</th>    <td>  4.59e+06</td> <td> 2.21e+06</td> <td>    2.080</td> <td> 0.038</td> <td>  2.6e+05  8.92e+06</td>\n",
       "</tr>\n",
       "<tr>\n",
       "  <th>const</th> <td> 1.875e+09</td> <td> 3.83e+08</td> <td>    4.895</td> <td> 0.000</td> <td> 1.12e+09  2.63e+09</td>\n",
       "</tr>\n",
       "</table>\n",
       "<table class=\"simpletable\">\n",
       "<tr>\n",
       "  <th>Omnibus:</th>       <td>457.984</td> <th>  Durbin-Watson:     </th> <td>   1.161</td>\n",
       "</tr>\n",
       "<tr>\n",
       "  <th>Prob(Omnibus):</th> <td> 0.000</td>  <th>  Jarque-Bera (JB):  </th> <td>2559.328</td>\n",
       "</tr>\n",
       "<tr>\n",
       "  <th>Skew:</th>          <td> 1.937</td>  <th>  Prob(JB):          </th> <td>    0.00</td>\n",
       "</tr>\n",
       "<tr>\n",
       "  <th>Kurtosis:</th>      <td> 9.565</td>  <th>  Cond. No.          </th> <td>1.24e+10</td>\n",
       "</tr>\n",
       "</table>"
      ],
      "text/plain": [
       "<class 'statsmodels.iolib.summary.Summary'>\n",
       "\"\"\"\n",
       "                            OLS Regression Results                            \n",
       "==============================================================================\n",
       "Dep. Variable:                      y   R-squared:                       0.394\n",
       "Model:                            OLS   Adj. R-squared:                  0.392\n",
       "Method:                 Least Squares   F-statistic:                     227.9\n",
       "Date:                Fri, 22 Apr 2016   Prob (F-statistic):          6.36e-114\n",
       "Time:                        08:21:40   Log-Likelihood:                -20449.\n",
       "No. Observations:                1057   AIC:                         4.091e+04\n",
       "Df Residuals:                    1053   BIC:                         4.093e+04\n",
       "Df Model:                           3                                         \n",
       "Covariance Type:            nonrobust                                         \n",
       "==============================================================================\n",
       "                 coef    std err          t      P>|t|      [95.0% Conf. Int.]\n",
       "------------------------------------------------------------------------------\n",
       "x1             1.1957      0.046     26.036      0.000         1.106     1.286\n",
       "x2         -9.292e+05   1.92e+05     -4.849      0.000     -1.31e+06 -5.53e+05\n",
       "x3           4.59e+06   2.21e+06      2.080      0.038       2.6e+05  8.92e+06\n",
       "const       1.875e+09   3.83e+08      4.895      0.000      1.12e+09  2.63e+09\n",
       "==============================================================================\n",
       "Omnibus:                      457.984   Durbin-Watson:                   1.161\n",
       "Prob(Omnibus):                  0.000   Jarque-Bera (JB):             2559.328\n",
       "Skew:                           1.937   Prob(JB):                         0.00\n",
       "Kurtosis:                       9.565   Cond. No.                     1.24e+10\n",
       "==============================================================================\n",
       "\n",
       "Warnings:\n",
       "[1] Standard Errors assume that the covariance matrix of the errors is correctly specified.\n",
       "[2] The condition number is large, 1.24e+10. This might indicate that there are\n",
       "strong multicollinearity or other numerical problems.\n",
       "\"\"\""
      ]
     },
     "execution_count": 186,
     "metadata": {},
     "output_type": "execute_result"
    }
   ],
   "source": [
    "#df_reduced_merged['intercept'] = np.ones(len(df_reduced_merged))\n",
    "\n",
    "y = np.array(df_reduced_merged['dom gross'])\n",
    "x = np.array(df_reduced_merged[['budget', 'year', 'ratio', 'intercept']])\n",
    "\n",
    "model = sm.OLS(y,x)\n",
    "results = model.fit()\n",
    "results.summary()"
   ]
  },
  {
   "cell_type": "code",
   "execution_count": 187,
   "metadata": {
    "collapsed": false
   },
   "outputs": [
    {
     "data": {
      "text/html": [
       "<table class=\"simpletable\">\n",
       "<caption>OLS Regression Results</caption>\n",
       "<tr>\n",
       "  <th>Dep. Variable:</th>            <td>y</td>        <th>  R-squared:         </th> <td>   0.099</td>\n",
       "</tr>\n",
       "<tr>\n",
       "  <th>Model:</th>                   <td>OLS</td>       <th>  Adj. R-squared:    </th> <td>   0.094</td>\n",
       "</tr>\n",
       "<tr>\n",
       "  <th>Method:</th>             <td>Least Squares</td>  <th>  F-statistic:       </th> <td>   19.23</td>\n",
       "</tr>\n",
       "<tr>\n",
       "  <th>Date:</th>             <td>Fri, 22 Apr 2016</td> <th>  Prob (F-statistic):</th> <td>2.37e-21</td>\n",
       "</tr>\n",
       "<tr>\n",
       "  <th>Time:</th>                 <td>08:22:16</td>     <th>  Log-Likelihood:    </th> <td> -3896.6</td>\n",
       "</tr>\n",
       "<tr>\n",
       "  <th>No. Observations:</th>      <td>  1057</td>      <th>  AIC:               </th> <td>   7807.</td>\n",
       "</tr>\n",
       "<tr>\n",
       "  <th>Df Residuals:</th>          <td>  1050</td>      <th>  BIC:               </th> <td>   7842.</td>\n",
       "</tr>\n",
       "<tr>\n",
       "  <th>Df Model:</th>              <td>     6</td>      <th>                     </th>     <td> </td>   \n",
       "</tr>\n",
       "<tr>\n",
       "  <th>Covariance Type:</th>      <td>nonrobust</td>    <th>                     </th>     <td> </td>   \n",
       "</tr>\n",
       "</table>\n",
       "<table class=\"simpletable\">\n",
       "<tr>\n",
       "    <td></td>       <th>coef</th>     <th>std err</th>      <th>t</th>      <th>P>|t|</th> <th>[95.0% Conf. Int.]</th> \n",
       "</tr>\n",
       "<tr>\n",
       "  <th>x1</th>    <td>    1.2325</td> <td>    0.352</td> <td>    3.500</td> <td> 0.000</td> <td>    0.542     1.923</td>\n",
       "</tr>\n",
       "<tr>\n",
       "  <th>x2</th>    <td>   -0.5555</td> <td>    0.893</td> <td>   -0.622</td> <td> 0.534</td> <td>   -2.308     1.197</td>\n",
       "</tr>\n",
       "<tr>\n",
       "  <th>x3</th>    <td>-2.376e-08</td> <td> 4.83e-09</td> <td>   -4.915</td> <td> 0.000</td> <td>-3.32e-08 -1.43e-08</td>\n",
       "</tr>\n",
       "<tr>\n",
       "  <th>const</th> <td> 1998.7004</td> <td>    0.558</td> <td> 3581.329</td> <td> 0.000</td> <td> 1997.605  1999.796</td>\n",
       "</tr>\n",
       "<tr>\n",
       "  <th>x4</th>    <td>   -1.4132</td> <td>    1.095</td> <td>   -1.290</td> <td> 0.197</td> <td>   -3.563     0.736</td>\n",
       "</tr>\n",
       "<tr>\n",
       "  <th>x5</th>    <td>    2.5376</td> <td>    0.895</td> <td>    2.834</td> <td> 0.005</td> <td>    0.781     4.295</td>\n",
       "</tr>\n",
       "<tr>\n",
       "  <th>x6</th>    <td>  9.08e-08</td> <td> 9.21e-09</td> <td>    9.860</td> <td> 0.000</td> <td> 7.27e-08  1.09e-07</td>\n",
       "</tr>\n",
       "</table>\n",
       "<table class=\"simpletable\">\n",
       "<tr>\n",
       "  <th>Omnibus:</th>       <td>274.037</td> <th>  Durbin-Watson:     </th> <td>   1.849</td> \n",
       "</tr>\n",
       "<tr>\n",
       "  <th>Prob(Omnibus):</th> <td> 0.000</td>  <th>  Jarque-Bera (JB):  </th> <td> 927.516</td> \n",
       "</tr>\n",
       "<tr>\n",
       "  <th>Skew:</th>          <td>-1.239</td>  <th>  Prob(JB):          </th> <td>3.91e-202</td>\n",
       "</tr>\n",
       "<tr>\n",
       "  <th>Kurtosis:</th>      <td> 6.863</td>  <th>  Cond. No.          </th> <td>4.57e+08</td> \n",
       "</tr>\n",
       "</table>"
      ],
      "text/plain": [
       "<class 'statsmodels.iolib.summary.Summary'>\n",
       "\"\"\"\n",
       "                            OLS Regression Results                            \n",
       "==============================================================================\n",
       "Dep. Variable:                      y   R-squared:                       0.099\n",
       "Model:                            OLS   Adj. R-squared:                  0.094\n",
       "Method:                 Least Squares   F-statistic:                     19.23\n",
       "Date:                Fri, 22 Apr 2016   Prob (F-statistic):           2.37e-21\n",
       "Time:                        08:22:16   Log-Likelihood:                -3896.6\n",
       "No. Observations:                1057   AIC:                             7807.\n",
       "Df Residuals:                    1050   BIC:                             7842.\n",
       "Df Model:                           6                                         \n",
       "Covariance Type:            nonrobust                                         \n",
       "==============================================================================\n",
       "                 coef    std err          t      P>|t|      [95.0% Conf. Int.]\n",
       "------------------------------------------------------------------------------\n",
       "x1             1.2325      0.352      3.500      0.000         0.542     1.923\n",
       "x2            -0.5555      0.893     -0.622      0.534        -2.308     1.197\n",
       "x3         -2.376e-08   4.83e-09     -4.915      0.000     -3.32e-08 -1.43e-08\n",
       "const       1998.7004      0.558   3581.329      0.000      1997.605  1999.796\n",
       "x4            -1.4132      1.095     -1.290      0.197        -3.563     0.736\n",
       "x5             2.5376      0.895      2.834      0.005         0.781     4.295\n",
       "x6           9.08e-08   9.21e-09      9.860      0.000      7.27e-08  1.09e-07\n",
       "==============================================================================\n",
       "Omnibus:                      274.037   Durbin-Watson:                   1.849\n",
       "Prob(Omnibus):                  0.000   Jarque-Bera (JB):              927.516\n",
       "Skew:                          -1.239   Prob(JB):                    3.91e-202\n",
       "Kurtosis:                       6.863   Cond. No.                     4.57e+08\n",
       "==============================================================================\n",
       "\n",
       "Warnings:\n",
       "[1] Standard Errors assume that the covariance matrix of the errors is correctly specified.\n",
       "[2] The condition number is large, 4.57e+08. This might indicate that there are\n",
       "strong multicollinearity or other numerical problems.\n",
       "\"\"\""
      ]
     },
     "execution_count": 187,
     "metadata": {},
     "output_type": "execute_result"
    }
   ],
   "source": [
    "#''''budget', 'year','ratio', 'genre: Action', 'genre: Drama', 'genre: Horror', 'genre: Comedy',\n",
    "#        'genre: Romance', 'genre: Musical', 'genre: Sci-Fi', 'genre: Animation',\n",
    "#        'genre: Thriller', 'genre: War', 'genre: Romantic Comedy',\n",
    "#        'genre: None', 'genre: Crime', 'genre: Adventure', 'genre: Family',\n",
    "#        'genre: Western', 'genre: Fantasy''''\n",
    "\n",
    "\n",
    "\n",
    "y = np.array(df_reduced_merged['year'])\n",
    "x = np.array(df_reduced_merged[['ratio','genre: Action','dom gross', 'intercept','genre: Horror', 'genre: Comedy','budget']])\n",
    "\n",
    "model = sm.OLS(y,x)\n",
    "results = model.fit()\n",
    "results.summary()\n",
    "\n",
    "\n"
   ]
  },
  {
   "cell_type": "code",
   "execution_count": 46,
   "metadata": {
    "collapsed": false
   },
   "outputs": [],
   "source": [
    "from sklearn import datasets\n",
    "from sklearn.cross_validation import cross_val_predict\n",
    "from sklearn import linear_model"
   ]
  },
  {
   "cell_type": "code",
   "execution_count": 256,
   "metadata": {
    "collapsed": false
   },
   "outputs": [
    {
     "data": {
      "image/png": "[encoded data removed]",
      "text/plain": [
       "<matplotlib.figure.Figure at 0x1243f0cc0>"
      ]
     },
     "metadata": {},
     "output_type": "display_data"
    }
   ],
   "source": [
    "# %matplotlib inline\n",
    "# import matplotlib.pyplot as plt\n",
    "\n",
    "# plt.figure(figsize=(10,10))\n",
    "# plt.scatter(df_reduced_merged['year'], df_reduced_merged['ratio'])\n",
    "# plt.xlabel('year')\n",
    "# plt.ylabel('budget')\n",
    "# plt.ylim(0, 6)\n",
    "# m, b = np.polyfit(x, y, 1)\n",
    "\n",
    "# plt.plot(x, y, '.')\n",
    "# plt.plot(x, m*x + b, '-')\n",
    "# plt.show()\n",
    "import seaborn as sns\n",
    "ax = sns.regplot(x=\"year\", y=\"ratio\", data=df_reduced_merged, ci=95, x_bins=15)\n",
    "#ax = sns.regplot(x=\"ratio\", y=\"char ratio\", data=last_test_merge)\n",
    "#ax = sns.residplot(x=\"budget\", y=\"dom gross\", data=df_reduced_merged)"
   ]
  },
  {
   "cell_type": "code",
   "execution_count": 384,
   "metadata": {
    "collapsed": false
   },
   "outputs": [
    {
     "name": "stderr",
     "output_type": "stream",
     "text": [
      "/Users/hannahdeen/anaconda3/lib/python3.5/site-packages/pandas/core/frame.py:1997: UserWarning: Boolean Series key will be reindexed to match DataFrame index.\n",
      "  \"DataFrame index.\", UserWarning)\n"
     ]
    }
   ],
   "source": [
    "final_df.columns\n",
    "\n",
    "\n",
    "#action_df=final_df[final_df['genre: Action']==1]\n",
    "drama_df=df_reduced_merged[final_df['genre: Drama']==1]\n",
    "# romance_df=df_reduced_merged[['genre: Romance']==1]\n",
    "# romcom_df=df_reduced_merged[['genre: Romantic Comedy']==1]\n",
    "# comedy_df=df_reduced_merged[['genre: Comedy']==1]\n",
    "# scifi_df=df_reduced_merged[['genre: Sci-Fi']==1]"
   ]
  },
  {
   "cell_type": "code",
   "execution_count": null,
   "metadata": {
    "collapsed": false
   },
   "outputs": [],
   "source": [
    "\n"
   ]
  },
  {
   "cell_type": "code",
   "execution_count": 135,
   "metadata": {
    "collapsed": false
   },
   "outputs": [
    {
     "name": "stderr",
     "output_type": "stream",
     "text": [
      "/Users/hannahdeen/anaconda3/lib/python3.5/site-packages/ipykernel/__main__.py:1: FutureWarning: sort(columns=....) is deprecated, use sort_values(by=.....)\n",
      "  if __name__ == '__main__':\n"
     ]
    }
   ],
   "source": [
    "test = df_reduced_merged.sort('year')"
   ]
  },
  {
   "cell_type": "code",
   "execution_count": 59,
   "metadata": {
    "collapsed": false
   },
   "outputs": [
    {
     "data": {
      "text/plain": [
       "(1057, 25)"
      ]
     },
     "execution_count": 59,
     "metadata": {},
     "output_type": "execute_result"
    }
   ],
   "source": [
    "test.shape"
   ]
  },
  {
   "cell_type": "code",
   "execution_count": 168,
   "metadata": {
    "collapsed": true
   },
   "outputs": [],
   "source": [
    "test_reduced_merged = pd.DataFrame(test.iloc[50:,:7])"
   ]
  },
  {
   "cell_type": "code",
   "execution_count": 191,
   "metadata": {
    "collapsed": false
   },
   "outputs": [],
   "source": [
    "#test_reduced_merged['logratio'] = [np.log(ratio) for ratio in test_reduced_merged['ratio']]\n",
    "test_reduced_merged['intercept'] = np.ones(len(test_reduced_merged))\n",
    "test_reduced_merged['genre: Action'] = df_reduced_merged['genre: Action']"
   ]
  },
  {
   "cell_type": "code",
   "execution_count": 333,
   "metadata": {
    "collapsed": false
   },
   "outputs": [
    {
     "data": {
      "text/plain": [
       "Index(['year_x', 'title_x', 'budget_x', 'Domestic Gross', 'Worldwide Gross',\n",
       "       'movie_x', 'script_id', 'imdb_id', 'title_y', 'year_y', 'gross',\n",
       "       'lines_data', 'ratio_x', 'imdb_character_name', 'words', 'gender',\n",
       "       'age', 'char ratio', 'budget_y', 'dom gross', 'movie_y', 'ratio_y',\n",
       "       'year', 'genre', 'rating', 'genre: Family', 'genre: Animation',\n",
       "       'genre: Romance', 'genre: Adventure', 'genre: Sci-Fi', 'genre: Crime',\n",
       "       'genre: Musical', 'genre: None', 'genre: Thriller', 'genre: Comedy',\n",
       "       'genre: Drama', 'genre: Romantic Comedy', 'genre: Horror',\n",
       "       'genre: Action', 'genre: Fantasy', 'genre: Western', 'genre: War',\n",
       "       'intercept'],\n",
       "      dtype='object')"
      ]
     },
     "execution_count": 333,
     "metadata": {},
     "output_type": "execute_result"
    }
   ],
   "source": [
    "final_df.columns"
   ]
  },
  {
   "cell_type": "code",
   "execution_count": 401,
   "metadata": {
    "collapsed": false
   },
   "outputs": [
    {
     "data": {
      "text/html": [
       "<table class=\"simpletable\">\n",
       "<caption>OLS Regression Results</caption>\n",
       "<tr>\n",
       "  <th>Dep. Variable:</th>            <td>y</td>        <th>  R-squared:         </th> <td>   0.055</td>\n",
       "</tr>\n",
       "<tr>\n",
       "  <th>Model:</th>                   <td>OLS</td>       <th>  Adj. R-squared:    </th> <td>   0.046</td>\n",
       "</tr>\n",
       "<tr>\n",
       "  <th>Method:</th>             <td>Least Squares</td>  <th>  F-statistic:       </th> <td>   6.050</td>\n",
       "</tr>\n",
       "<tr>\n",
       "  <th>Date:</th>             <td>Fri, 22 Apr 2016</td> <th>  Prob (F-statistic):</th> <td>5.51e-09</td>\n",
       "</tr>\n",
       "<tr>\n",
       "  <th>Time:</th>                 <td>15:47:27</td>     <th>  Log-Likelihood:    </th> <td> -3922.0</td>\n",
       "</tr>\n",
       "<tr>\n",
       "  <th>No. Observations:</th>      <td>  1057</td>      <th>  AIC:               </th> <td>   7866.</td>\n",
       "</tr>\n",
       "<tr>\n",
       "  <th>Df Residuals:</th>          <td>  1046</td>      <th>  BIC:               </th> <td>   7921.</td>\n",
       "</tr>\n",
       "<tr>\n",
       "  <th>Df Model:</th>              <td>    10</td>      <th>                     </th>     <td> </td>   \n",
       "</tr>\n",
       "<tr>\n",
       "  <th>Covariance Type:</th>      <td>nonrobust</td>    <th>                     </th>     <td> </td>   \n",
       "</tr>\n",
       "</table>\n",
       "<table class=\"simpletable\">\n",
       "<tr>\n",
       "    <td></td>       <th>coef</th>     <th>std err</th>      <th>t</th>      <th>P>|t|</th> <th>[95.0% Conf. Int.]</th> \n",
       "</tr>\n",
       "<tr>\n",
       "  <th>x1</th>    <td>    0.7759</td> <td>    0.369</td> <td>    2.102</td> <td> 0.036</td> <td>    0.052     1.500</td>\n",
       "</tr>\n",
       "<tr>\n",
       "  <th>x2</th>    <td>    4.0010</td> <td>    1.073</td> <td>    3.728</td> <td> 0.000</td> <td>    1.895     6.107</td>\n",
       "</tr>\n",
       "<tr>\n",
       "  <th>x3</th>    <td>    4.5002</td> <td>    1.082</td> <td>    4.158</td> <td> 0.000</td> <td>    2.376     6.624</td>\n",
       "</tr>\n",
       "<tr>\n",
       "  <th>x4</th>    <td>    0.2357</td> <td>    0.632</td> <td>    0.373</td> <td> 0.709</td> <td>   -1.005     1.476</td>\n",
       "</tr>\n",
       "<tr>\n",
       "  <th>x5</th>    <td>    2.7467</td> <td>    1.250</td> <td>    2.198</td> <td> 0.028</td> <td>    0.295     5.199</td>\n",
       "</tr>\n",
       "<tr>\n",
       "  <th>x6</th>    <td>    0.4889</td> <td>    2.152</td> <td>    0.227</td> <td> 0.820</td> <td>   -3.733     4.711</td>\n",
       "</tr>\n",
       "<tr>\n",
       "  <th>x7</th>    <td>    5.5223</td> <td>    0.999</td> <td>    5.531</td> <td> 0.000</td> <td>    3.563     7.482</td>\n",
       "</tr>\n",
       "<tr>\n",
       "  <th>x8</th>    <td>    7.6540</td> <td>    1.653</td> <td>    4.630</td> <td> 0.000</td> <td>    4.410    10.898</td>\n",
       "</tr>\n",
       "<tr>\n",
       "  <th>x9</th>    <td>    0.2357</td> <td>    0.632</td> <td>    0.373</td> <td> 0.709</td> <td>   -1.005     1.476</td>\n",
       "</tr>\n",
       "<tr>\n",
       "  <th>x10</th>   <td>    5.1036</td> <td>    1.365</td> <td>    3.739</td> <td> 0.000</td> <td>    2.425     7.782</td>\n",
       "</tr>\n",
       "<tr>\n",
       "  <th>x11</th>   <td>    3.2720</td> <td>    1.814</td> <td>    1.804</td> <td> 0.072</td> <td>   -0.287     6.831</td>\n",
       "</tr>\n",
       "<tr>\n",
       "  <th>const</th> <td> 1998.1513</td> <td>    0.715</td> <td> 2795.153</td> <td> 0.000</td> <td> 1996.749  1999.554</td>\n",
       "</tr>\n",
       "</table>\n",
       "<table class=\"simpletable\">\n",
       "<tr>\n",
       "  <th>Omnibus:</th>       <td>335.772</td> <th>  Durbin-Watson:     </th> <td>   1.703</td> \n",
       "</tr>\n",
       "<tr>\n",
       "  <th>Prob(Omnibus):</th> <td> 0.000</td>  <th>  Jarque-Bera (JB):  </th> <td>1191.567</td> \n",
       "</tr>\n",
       "<tr>\n",
       "  <th>Skew:</th>          <td>-1.516</td>  <th>  Prob(JB):          </th> <td>1.80e-259</td>\n",
       "</tr>\n",
       "<tr>\n",
       "  <th>Kurtosis:</th>      <td> 7.227</td>  <th>  Cond. No.          </th> <td>1.70e+17</td> \n",
       "</tr>\n",
       "</table>"
      ],
      "text/plain": [
       "<class 'statsmodels.iolib.summary.Summary'>\n",
       "\"\"\"\n",
       "                            OLS Regression Results                            \n",
       "==============================================================================\n",
       "Dep. Variable:                      y   R-squared:                       0.055\n",
       "Model:                            OLS   Adj. R-squared:                  0.046\n",
       "Method:                 Least Squares   F-statistic:                     6.050\n",
       "Date:                Fri, 22 Apr 2016   Prob (F-statistic):           5.51e-09\n",
       "Time:                        15:47:27   Log-Likelihood:                -3922.0\n",
       "No. Observations:                1057   AIC:                             7866.\n",
       "Df Residuals:                    1046   BIC:                             7921.\n",
       "Df Model:                          10                                         \n",
       "Covariance Type:            nonrobust                                         \n",
       "==============================================================================\n",
       "                 coef    std err          t      P>|t|      [95.0% Conf. Int.]\n",
       "------------------------------------------------------------------------------\n",
       "x1             0.7759      0.369      2.102      0.036         0.052     1.500\n",
       "x2             4.0010      1.073      3.728      0.000         1.895     6.107\n",
       "x3             4.5002      1.082      4.158      0.000         2.376     6.624\n",
       "x4             0.2357      0.632      0.373      0.709        -1.005     1.476\n",
       "x5             2.7467      1.250      2.198      0.028         0.295     5.199\n",
       "x6             0.4889      2.152      0.227      0.820        -3.733     4.711\n",
       "x7             5.5223      0.999      5.531      0.000         3.563     7.482\n",
       "x8             7.6540      1.653      4.630      0.000         4.410    10.898\n",
       "x9             0.2357      0.632      0.373      0.709        -1.005     1.476\n",
       "x10            5.1036      1.365      3.739      0.000         2.425     7.782\n",
       "x11            3.2720      1.814      1.804      0.072        -0.287     6.831\n",
       "const       1998.1513      0.715   2795.153      0.000      1996.749  1999.554\n",
       "==============================================================================\n",
       "Omnibus:                      335.772   Durbin-Watson:                   1.703\n",
       "Prob(Omnibus):                  0.000   Jarque-Bera (JB):             1191.567\n",
       "Skew:                          -1.516   Prob(JB):                    1.80e-259\n",
       "Kurtosis:                       7.227   Cond. No.                     1.70e+17\n",
       "==============================================================================\n",
       "\n",
       "Warnings:\n",
       "[1] Standard Errors assume that the covariance matrix of the errors is correctly specified.\n",
       "[2] The smallest eigenvalue is 6.32e-32. This might indicate that there are\n",
       "strong multicollinearity problems or that the design matrix is singular.\n",
       "\"\"\""
      ]
     },
     "execution_count": 401,
     "metadata": {},
     "output_type": "execute_result"
    }
   ],
   "source": [
    "y = np.array(df_reduced_merged['year'])\n",
    "x = np.array(df_reduced_merged[['ratio', 'genre: Action', 'genre: Comedy', 'genre: Horror',\n",
    "       'genre: Sci-Fi','genre: Romance', 'genre: Drama', 'genre: Animation', 'genre: Horror',\n",
    "        'genre: Thriller','genre: Romantic Comedy','intercept']])\n",
    "# x=x.T\n",
    "\n",
    "# mask = np.random.rand(X.shape[0]) < 0.75\n",
    "# X_train = x[mask]\n",
    "# X_test = x[~mask]\n",
    "# Y_train = y[mask]\n",
    "# Y_test = y[~mask]\n",
    "\n",
    "model = sm.OLS(y,x)\n",
    "results = model.fit()\n",
    "results.summary()"
   ]
  },
  {
   "cell_type": "code",
   "execution_count": 393,
   "metadata": {
    "collapsed": false
   },
   "outputs": [
    {
     "data": {
      "text/plain": [
       "Index(['year_x', 'title_x', 'budget_x', 'Domestic Gross', 'Worldwide Gross',\n",
       "       'movie_x', 'script_id', 'imdb_id', 'title_y', 'year_y', 'gross',\n",
       "       'lines_data', 'ratio_x', 'imdb_character_name', 'words', 'gender',\n",
       "       'age', 'char ratio', 'budget_y', 'dom gross', 'movie_y', 'ratio_y',\n",
       "       'year', 'genre', 'rating', 'genre: Family', 'genre: Animation',\n",
       "       'genre: Romance', 'genre: Adventure', 'genre: Sci-Fi', 'genre: Crime',\n",
       "       'genre: Musical', 'genre: None', 'genre: Thriller', 'genre: Comedy',\n",
       "       'genre: Drama', 'genre: Romantic Comedy', 'genre: Horror',\n",
       "       'genre: Action', 'genre: Fantasy', 'genre: Western', 'genre: War',\n",
       "       'intercept'],\n",
       "      dtype='object')"
      ]
     },
     "execution_count": 393,
     "metadata": {},
     "output_type": "execute_result"
    }
   ],
   "source": [
    "# fig = plt.figure(figsize=(12,8))\n",
    "# plt.plot(y=coef, data=results)\n",
    "#fig = sm.graphics.plot_partregress_grid(results, fig=fig)\n",
    "final_df.columns"
   ]
  },
  {
   "cell_type": "code",
   "execution_count": 394,
   "metadata": {
    "collapsed": false
   },
   "outputs": [
    {
     "data": {
      "text/html": [
       "<table class=\"simpletable\">\n",
       "<caption>OLS Regression Results</caption>\n",
       "<tr>\n",
       "  <th>Dep. Variable:</th>            <td>y</td>        <th>  R-squared:         </th> <td>   0.105</td> \n",
       "</tr>\n",
       "<tr>\n",
       "  <th>Model:</th>                   <td>OLS</td>       <th>  Adj. R-squared:    </th> <td>   0.104</td> \n",
       "</tr>\n",
       "<tr>\n",
       "  <th>Method:</th>             <td>Least Squares</td>  <th>  F-statistic:       </th> <td>   368.9</td> \n",
       "</tr>\n",
       "<tr>\n",
       "  <th>Date:</th>             <td>Fri, 22 Apr 2016</td> <th>  Prob (F-statistic):</th> <td>6.15e-301</td>\n",
       "</tr>\n",
       "<tr>\n",
       "  <th>Time:</th>                 <td>14:52:56</td>     <th>  Log-Likelihood:    </th> <td> -46357.</td> \n",
       "</tr>\n",
       "<tr>\n",
       "  <th>No. Observations:</th>      <td> 12620</td>      <th>  AIC:               </th> <td>9.272e+04</td>\n",
       "</tr>\n",
       "<tr>\n",
       "  <th>Df Residuals:</th>          <td> 12615</td>      <th>  BIC:               </th> <td>9.276e+04</td>\n",
       "</tr>\n",
       "<tr>\n",
       "  <th>Df Model:</th>              <td>     4</td>      <th>                     </th>     <td> </td>    \n",
       "</tr>\n",
       "<tr>\n",
       "  <th>Covariance Type:</th>      <td>nonrobust</td>    <th>                     </th>     <td> </td>    \n",
       "</tr>\n",
       "</table>\n",
       "<table class=\"simpletable\">\n",
       "<tr>\n",
       "    <td></td>       <th>coef</th>     <th>std err</th>      <th>t</th>      <th>P>|t|</th> <th>[95.0% Conf. Int.]</th> \n",
       "</tr>\n",
       "<tr>\n",
       "  <th>x1</th>    <td>    0.0089</td> <td>    0.000</td> <td>   34.862</td> <td> 0.000</td> <td>    0.008     0.009</td>\n",
       "</tr>\n",
       "<tr>\n",
       "  <th>x2</th>    <td>    0.0664</td> <td>    0.104</td> <td>    0.639</td> <td> 0.523</td> <td>   -0.137     0.270</td>\n",
       "</tr>\n",
       "<tr>\n",
       "  <th>x3</th>    <td>    3.2958</td> <td>    0.252</td> <td>   13.089</td> <td> 0.000</td> <td>    2.802     3.789</td>\n",
       "</tr>\n",
       "<tr>\n",
       "  <th>x4</th>    <td>   -0.0022</td> <td>    0.000</td> <td>  -16.009</td> <td> 0.000</td> <td>   -0.002    -0.002</td>\n",
       "</tr>\n",
       "<tr>\n",
       "  <th>const</th> <td> 1997.6144</td> <td>    0.164</td> <td> 1.22e+04</td> <td> 0.000</td> <td> 1997.292  1997.937</td>\n",
       "</tr>\n",
       "</table>\n",
       "<table class=\"simpletable\">\n",
       "<tr>\n",
       "  <th>Omnibus:</th>       <td>3074.066</td> <th>  Durbin-Watson:     </th> <td>   0.167</td> \n",
       "</tr>\n",
       "<tr>\n",
       "  <th>Prob(Omnibus):</th>  <td> 0.000</td>  <th>  Jarque-Bera (JB):  </th> <td>10936.375</td>\n",
       "</tr>\n",
       "<tr>\n",
       "  <th>Skew:</th>           <td>-1.198</td>  <th>  Prob(JB):          </th> <td>    0.00</td> \n",
       "</tr>\n",
       "<tr>\n",
       "  <th>Kurtosis:</th>       <td> 6.880</td>  <th>  Cond. No.          </th> <td>3.81e+03</td> \n",
       "</tr>\n",
       "</table>"
      ],
      "text/plain": [
       "<class 'statsmodels.iolib.summary.Summary'>\n",
       "\"\"\"\n",
       "                            OLS Regression Results                            \n",
       "==============================================================================\n",
       "Dep. Variable:                      y   R-squared:                       0.105\n",
       "Model:                            OLS   Adj. R-squared:                  0.104\n",
       "Method:                 Least Squares   F-statistic:                     368.9\n",
       "Date:                Fri, 22 Apr 2016   Prob (F-statistic):          6.15e-301\n",
       "Time:                        14:52:56   Log-Likelihood:                -46357.\n",
       "No. Observations:               12620   AIC:                         9.272e+04\n",
       "Df Residuals:                   12615   BIC:                         9.276e+04\n",
       "Df Model:                           4                                         \n",
       "Covariance Type:            nonrobust                                         \n",
       "==============================================================================\n",
       "                 coef    std err          t      P>|t|      [95.0% Conf. Int.]\n",
       "------------------------------------------------------------------------------\n",
       "x1             0.0089      0.000     34.862      0.000         0.008     0.009\n",
       "x2             0.0664      0.104      0.639      0.523        -0.137     0.270\n",
       "x3             3.2958      0.252     13.089      0.000         2.802     3.789\n",
       "x4            -0.0022      0.000    -16.009      0.000        -0.002    -0.002\n",
       "const       1997.6144      0.164   1.22e+04      0.000      1997.292  1997.937\n",
       "==============================================================================\n",
       "Omnibus:                     3074.066   Durbin-Watson:                   0.167\n",
       "Prob(Omnibus):                  0.000   Jarque-Bera (JB):            10936.375\n",
       "Skew:                          -1.198   Prob(JB):                         0.00\n",
       "Kurtosis:                       6.880   Cond. No.                     3.81e+03\n",
       "==============================================================================\n",
       "\n",
       "Warnings:\n",
       "[1] Standard Errors assume that the covariance matrix of the errors is correctly specified.\n",
       "[2] The condition number is large, 3.81e+03. This might indicate that there are\n",
       "strong multicollinearity or other numerical problems.\n",
       "\"\"\""
      ]
     },
     "execution_count": 394,
     "metadata": {},
     "output_type": "execute_result"
    }
   ],
   "source": [
    "y = np.array(final_df['year_y'])\n",
    "x = np.array(final_df[['budget_x', 'ratio_x', 'char ratio',  'Domestic Gross', 'intercept']])\n",
    "\n",
    "model = sm.OLS(y,x)\n",
    "results = model.fit()\n",
    "results.summary()"
   ]
  },
  {
   "cell_type": "code",
   "execution_count": 386,
   "metadata": {
    "collapsed": false
   },
   "outputs": [
    {
     "data": {
      "image/png": "[encoded data removed]",
      "text/plain": [
       "<matplotlib.figure.Figure at 0x125e904a8>"
      ]
     },
     "metadata": {},
     "output_type": "display_data"
    }
   ],
   "source": [
    "# plt.subplot()\n",
    "# ax = sns.regplot(x=\"year\", y=\"ratio_y\", data=action_df, ci=95,  color='purple')\n",
    "# # plt.subplot()\n",
    "# ax2 = sns.regplot(x=\"year\", y=\"ratio\", data=horror_df, ci=95, label ='horror')\n",
    "# # plt.subplot()\n",
    "#ax3 = sns.regplot(x=\"year\", y=\"ratio\", data=romance_df, ci=95, x_bins=10, label ='rom com')\n",
    "# # plt.subplot()\n",
    "# # ax3 = sns.regplot(x=\"year\", y=\"ratio\", data=romance_df, x_bins=10)\n",
    "ax4 = sns.regplot(x=\"year\", y=\"ratio\", data=drama_df)\n",
    "\n",
    "\n",
    "\n",
    "# plt.scatter(horror_df['year'], action_df['ratio_y'], color='red')\n",
    "# m, b = np.polyfit(action_df['year'], action_df['ratio_y'], 1)\n",
    "\n",
    "# plt.plot(action_df['year'], action_df['ratio_y'], '.')\n",
    "# plt.plot(action_df['year'], m*action_df['year'] + b, '-')\n",
    "# plt.ylim(0, 6)\n",
    "# plt.show()\n",
    "\n",
    "# x = horror_df['year']\n",
    "# y = horror_df['ratio_y']\n",
    "# plt.scatter(horror_df['year'], horror_df['ratio'], color='blue')\n",
    "# plt.ylim(0, 6)\n",
    "# m, b = np.polyfit(x, y, 1)\n",
    "\n",
    "# plt.plot(x, y, '.')\n",
    "# plt.plot(x, m*x + b, '-')\n",
    "# plt.show()\n",
    "\n",
    "# x=romance_df['year']\n",
    "# y = romance_df['ratio']\n",
    "# plt.scatter(romance_df['year'], romance_df['ratio'], color='pink')\n",
    "# #plt.xlim(0, 6)\n",
    "# plt.ylim(0, 6)\n",
    "# m, b = np.polyfit(x, y, 1)\n",
    "\n",
    "# plt.plot(x, y, '.')\n",
    "# plt.plot(x, m*x + b, '-')\n",
    "# plt.show()\n",
    "\n",
    "# x=romcom_df['year']\n",
    "# y = romcom_df['ratio_y']\n",
    "# plt.scatter(romcom_df['year'], romcom_df['ratio_y'], color='pink')\n",
    "# plt.ylim(0, 6)\n",
    "# m, b = np.polyfit(x, y, 1)\n",
    "\n",
    "# plt.plot(x, y, '.')\n",
    "# plt.plot(x, m*x + b, '-')\n",
    "# plt.show()\n",
    "\n",
    "# x=scifi_df['year']\n",
    "# y = scifi_df['ratio_y']\n",
    "# plt.scatter(x, y, color='green')\n",
    "# plt.ylim(0, 6)\n",
    "# m, b = np.polyfit(x, y, 1)\n",
    "\n",
    "# plt.plot(x, y, '.')\n",
    "# plt.plot(x, m*x + b, '-')\n",
    "# plt.show()"
   ]
  },
  {
   "cell_type": "code",
   "execution_count": 316,
   "metadata": {
    "collapsed": false
   },
   "outputs": [
    {
     "data": {
      "text/plain": [
       "211      1.274768\n",
       "212      1.274768\n",
       "213      1.274768\n",
       "214      1.274768\n",
       "215      1.274768\n",
       "216      1.274768\n",
       "217      1.274768\n",
       "218      1.274768\n",
       "219      1.274768\n",
       "220      1.274768\n",
       "221      1.274768\n",
       "222      1.274768\n",
       "223      1.274768\n",
       "224      1.274768\n",
       "225      1.274768\n",
       "226      1.274768\n",
       "227      1.274768\n",
       "228      1.274768\n",
       "229      1.274768\n",
       "482      0.709228\n",
       "483      0.709228\n",
       "484      0.709228\n",
       "485      0.709228\n",
       "486      0.709228\n",
       "487      0.709228\n",
       "488      0.709228\n",
       "489      0.709228\n",
       "490      0.709228\n",
       "491      0.709228\n",
       "492      0.709228\n",
       "           ...   \n",
       "11597    0.376964\n",
       "11598    0.376964\n",
       "11599    0.376964\n",
       "11600    0.376964\n",
       "11601    0.376964\n",
       "11602    0.376964\n",
       "11603    0.376964\n",
       "11604    0.376964\n",
       "11605    0.376964\n",
       "11606    0.376964\n",
       "11607    0.376964\n",
       "11608    0.376964\n",
       "11609    0.376964\n",
       "11610    0.376964\n",
       "12049    0.241929\n",
       "12050    0.241929\n",
       "12051    0.241929\n",
       "12052    0.241929\n",
       "12053    0.241929\n",
       "12054    0.241929\n",
       "12055    0.241929\n",
       "12056    0.241929\n",
       "12057    0.241929\n",
       "12058    0.241929\n",
       "12059    0.241929\n",
       "12060    0.241929\n",
       "12061    0.241929\n",
       "12062    0.241929\n",
       "12063    0.241929\n",
       "12064    0.241929\n",
       "Name: ratio_y, dtype: float64"
      ]
     },
     "execution_count": 316,
     "metadata": {},
     "output_type": "execute_result"
    }
   ],
   "source": [
    "#data_2005 = [final_df[]]\n",
    "#data_2005=final_df[final_df['year']==2005]\n",
    "data_2005['ratio_y']"
   ]
  },
  {
   "cell_type": "code",
   "execution_count": 396,
   "metadata": {
    "collapsed": false
   },
   "outputs": [
    {
     "data": {
      "image/png": "[encoded data removed]",
      "text/plain": [
       "<matplotlib.figure.Figure at 0x124043160>"
      ]
     },
     "metadata": {},
     "output_type": "display_data"
    }
   ],
   "source": [
    "ax = sns.regplot(x=\"year\", y=\"char ratio\", data=final_df, ci=95, color='purple', x_bins=30)\n",
    "\n",
    "ax2 = sns.regplot(x=\"year\", y=\"ratio_y\", data=final_df, ci=95, color='blue', x_bins=30, y_lim)"
   ]
  },
  {
   "cell_type": "code",
   "execution_count": 303,
   "metadata": {
    "collapsed": false
   },
   "outputs": [
    {
     "data": {
      "image/png": "[encoded data removed]",
      "text/plain": [
       "<matplotlib.figure.Figure at 0x125678748>"
      ]
     },
     "metadata": {},
     "output_type": "display_data"
    }
   ],
   "source": [
    "ax = sns.regplot(x=\"year\", y=\"ratio_y\", data=action_df, ci=95, color='blue', bins=15)"
   ]
  },
  {
   "cell_type": "code",
   "execution_count": 611,
   "metadata": {
    "collapsed": false
   },
   "outputs": [],
   "source": [
    "test = pd.merge(character_df, movie_df, on=['script_id'])"
   ]
  },
  {
   "cell_type": "code",
   "execution_count": 614,
   "metadata": {
    "collapsed": false
   },
   "outputs": [],
   "source": [
    "test['movie']\n",
    "test[\"movie\"] = test[\"year\"].map(str) + \" \" + test[\"title\"]"
   ]
  },
  {
   "cell_type": "code",
   "execution_count": 615,
   "metadata": {
    "collapsed": false
   },
   "outputs": [
    {
     "data": {
      "text/plain": [
       "Index(['script_id', 'imdb_character_name', 'words', 'gender', 'age', 'imdb_id',\n",
       "       'title', 'year', 'gross', 'lines_data', 'movie'],\n",
       "      dtype='object')"
      ]
     },
     "execution_count": 615,
     "metadata": {},
     "output_type": "execute_result"
    }
   ],
   "source": [
    "test.columns"
   ]
  },
  {
   "cell_type": "code",
   "execution_count": 634,
   "metadata": {
    "collapsed": false
   },
   "outputs": [],
   "source": [
    "#test['gender_perc'] = [i+1 for i ]\n",
    "\n",
    "def gender_percent(df):\n",
    "    df['f_number'] = 0\n",
    "    for i in range(len(df)):\n",
    "        \n",
    "        for script in set(test['script_id']):\n",
    "            while df.iloc[i,0] == script:\n",
    "                if df.iloc[i,3] == f:\n",
    "                    df.iloc[i,11] = df.iloc[i,11]+1\n",
    "    return df"
   ]
  },
  {
   "cell_type": "code",
   "execution_count": 277,
   "metadata": {
    "collapsed": false
   },
   "outputs": [
    {
     "name": "stdout",
     "output_type": "stream",
     "text": [
      "Index(['year_x', 'title_x', 'budget_x', 'Domestic Gross', 'Worldwide Gross',\n",
      "       'movie_x', 'script_id', 'imdb_id', 'title_y', 'year_y', 'gross',\n",
      "       'lines_data', 'ratio_x', 'imdb_character_name', 'words', 'gender',\n",
      "       'age', 'char ratio', 'budget_y', 'dom gross', 'movie_y', 'ratio_y',\n",
      "       'year', 'genre', 'rating', 'genre: Family', 'genre: Animation',\n",
      "       'genre: Romance', 'genre: Adventure', 'genre: Sci-Fi', 'genre: Crime',\n",
      "       'genre: Musical', 'genre: None', 'genre: Thriller', 'genre: Comedy',\n",
      "       'genre: Drama', 'genre: Romantic Comedy', 'genre: Horror',\n",
      "       'genre: Action', 'genre: Fantasy', 'genre: Western', 'genre: War',\n",
      "       'intercept'],\n",
      "      dtype='object')\n"
     ]
    },
    {
     "data": {
      "text/html": [
       "<table class=\"simpletable\">\n",
       "<caption>OLS Regression Results</caption>\n",
       "<tr>\n",
       "  <th>Dep. Variable:</th>            <td>y</td>        <th>  R-squared:         </th> <td>   0.105</td> \n",
       "</tr>\n",
       "<tr>\n",
       "  <th>Model:</th>                   <td>OLS</td>       <th>  Adj. R-squared:    </th> <td>   0.104</td> \n",
       "</tr>\n",
       "<tr>\n",
       "  <th>Method:</th>             <td>Least Squares</td>  <th>  F-statistic:       </th> <td>   368.9</td> \n",
       "</tr>\n",
       "<tr>\n",
       "  <th>Date:</th>             <td>Fri, 22 Apr 2016</td> <th>  Prob (F-statistic):</th> <td>6.15e-301</td>\n",
       "</tr>\n",
       "<tr>\n",
       "  <th>Time:</th>                 <td>10:37:04</td>     <th>  Log-Likelihood:    </th> <td> -46357.</td> \n",
       "</tr>\n",
       "<tr>\n",
       "  <th>No. Observations:</th>      <td> 12620</td>      <th>  AIC:               </th> <td>9.272e+04</td>\n",
       "</tr>\n",
       "<tr>\n",
       "  <th>Df Residuals:</th>          <td> 12615</td>      <th>  BIC:               </th> <td>9.276e+04</td>\n",
       "</tr>\n",
       "<tr>\n",
       "  <th>Df Model:</th>              <td>     4</td>      <th>                     </th>     <td> </td>    \n",
       "</tr>\n",
       "<tr>\n",
       "  <th>Covariance Type:</th>      <td>nonrobust</td>    <th>                     </th>     <td> </td>    \n",
       "</tr>\n",
       "</table>\n",
       "<table class=\"simpletable\">\n",
       "<tr>\n",
       "    <td></td>       <th>coef</th>     <th>std err</th>      <th>t</th>      <th>P>|t|</th> <th>[95.0% Conf. Int.]</th> \n",
       "</tr>\n",
       "<tr>\n",
       "  <th>x1</th>    <td>    0.0947</td> <td>    0.148</td> <td>    0.639</td> <td> 0.523</td> <td>   -0.196     0.385</td>\n",
       "</tr>\n",
       "<tr>\n",
       "  <th>x2</th>    <td>    0.0089</td> <td>    0.000</td> <td>   34.862</td> <td> 0.000</td> <td>    0.008     0.009</td>\n",
       "</tr>\n",
       "<tr>\n",
       "  <th>const</th> <td> 1997.6427</td> <td>    0.160</td> <td> 1.25e+04</td> <td> 0.000</td> <td> 1997.329  1997.957</td>\n",
       "</tr>\n",
       "<tr>\n",
       "  <th>x3</th>    <td>    3.2958</td> <td>    0.252</td> <td>   13.089</td> <td> 0.000</td> <td>    2.802     3.789</td>\n",
       "</tr>\n",
       "<tr>\n",
       "  <th>x4</th>    <td> -2.16e-08</td> <td> 1.35e-09</td> <td>  -16.009</td> <td> 0.000</td> <td>-2.42e-08  -1.9e-08</td>\n",
       "</tr>\n",
       "</table>\n",
       "<table class=\"simpletable\">\n",
       "<tr>\n",
       "  <th>Omnibus:</th>       <td>3074.066</td> <th>  Durbin-Watson:     </th> <td>   0.167</td> \n",
       "</tr>\n",
       "<tr>\n",
       "  <th>Prob(Omnibus):</th>  <td> 0.000</td>  <th>  Jarque-Bera (JB):  </th> <td>10936.375</td>\n",
       "</tr>\n",
       "<tr>\n",
       "  <th>Skew:</th>           <td>-1.198</td>  <th>  Prob(JB):          </th> <td>    0.00</td> \n",
       "</tr>\n",
       "<tr>\n",
       "  <th>Kurtosis:</th>       <td> 6.880</td>  <th>  Cond. No.          </th> <td>3.67e+08</td> \n",
       "</tr>\n",
       "</table>"
      ],
      "text/plain": [
       "<class 'statsmodels.iolib.summary.Summary'>\n",
       "\"\"\"\n",
       "                            OLS Regression Results                            \n",
       "==============================================================================\n",
       "Dep. Variable:                      y   R-squared:                       0.105\n",
       "Model:                            OLS   Adj. R-squared:                  0.104\n",
       "Method:                 Least Squares   F-statistic:                     368.9\n",
       "Date:                Fri, 22 Apr 2016   Prob (F-statistic):          6.15e-301\n",
       "Time:                        10:37:04   Log-Likelihood:                -46357.\n",
       "No. Observations:               12620   AIC:                         9.272e+04\n",
       "Df Residuals:                   12615   BIC:                         9.276e+04\n",
       "Df Model:                           4                                         \n",
       "Covariance Type:            nonrobust                                         \n",
       "==============================================================================\n",
       "                 coef    std err          t      P>|t|      [95.0% Conf. Int.]\n",
       "------------------------------------------------------------------------------\n",
       "x1             0.0947      0.148      0.639      0.523        -0.196     0.385\n",
       "x2             0.0089      0.000     34.862      0.000         0.008     0.009\n",
       "const       1997.6427      0.160   1.25e+04      0.000      1997.329  1997.957\n",
       "x3             3.2958      0.252     13.089      0.000         2.802     3.789\n",
       "x4          -2.16e-08   1.35e-09    -16.009      0.000     -2.42e-08  -1.9e-08\n",
       "==============================================================================\n",
       "Omnibus:                     3074.066   Durbin-Watson:                   0.167\n",
       "Prob(Omnibus):                  0.000   Jarque-Bera (JB):            10936.375\n",
       "Skew:                          -1.198   Prob(JB):                         0.00\n",
       "Kurtosis:                       6.880   Cond. No.                     3.67e+08\n",
       "==============================================================================\n",
       "\n",
       "Warnings:\n",
       "[1] Standard Errors assume that the covariance matrix of the errors is correctly specified.\n",
       "[2] The condition number is large, 3.67e+08. This might indicate that there are\n",
       "strong multicollinearity or other numerical problems.\n",
       "\"\"\""
      ]
     },
     "execution_count": 277,
     "metadata": {},
     "output_type": "execute_result"
    }
   ],
   "source": [
    "print(final_df.columns)\n",
    "final_df['intercept'] = np.ones(len(final_df))\n",
    "y = np.array(final_df['year'])\n",
    "x = np.array(final_df[[ 'ratio_y', 'budget_x', 'intercept', 'char ratio', 'dom gross']])\n",
    "\n",
    "model = sm.OLS(y,x)\n",
    "results = model.fit()\n",
    "results.summary()"
   ]
  },
  {
   "cell_type": "code",
   "execution_count": 74,
   "metadata": {
    "collapsed": false
   },
   "outputs": [
    {
     "data": {
      "text/html": [
       "<div>\n",
       "<table border=\"1\" class=\"dataframe\">\n",
       "  <thead>\n",
       "    <tr style=\"text-align: right;\">\n",
       "      <th></th>\n",
       "      <th>script_id</th>\n",
       "      <th>imdb_character_name</th>\n",
       "      <th>words</th>\n",
       "      <th>gender</th>\n",
       "      <th>age</th>\n",
       "    </tr>\n",
       "  </thead>\n",
       "  <tbody>\n",
       "    <tr>\n",
       "      <th>0</th>\n",
       "      <td>280</td>\n",
       "      <td>betty</td>\n",
       "      <td>311</td>\n",
       "      <td>f</td>\n",
       "      <td>35</td>\n",
       "    </tr>\n",
       "    <tr>\n",
       "      <th>1</th>\n",
       "      <td>280</td>\n",
       "      <td>carolyn johnson</td>\n",
       "      <td>873</td>\n",
       "      <td>f</td>\n",
       "      <td>NaN</td>\n",
       "    </tr>\n",
       "    <tr>\n",
       "      <th>2</th>\n",
       "      <td>280</td>\n",
       "      <td>eleanor</td>\n",
       "      <td>138</td>\n",
       "      <td>f</td>\n",
       "      <td>NaN</td>\n",
       "    </tr>\n",
       "    <tr>\n",
       "      <th>3</th>\n",
       "      <td>280</td>\n",
       "      <td>francesca johns</td>\n",
       "      <td>2251</td>\n",
       "      <td>f</td>\n",
       "      <td>46</td>\n",
       "    </tr>\n",
       "    <tr>\n",
       "      <th>4</th>\n",
       "      <td>280</td>\n",
       "      <td>madge</td>\n",
       "      <td>190</td>\n",
       "      <td>f</td>\n",
       "      <td>46</td>\n",
       "    </tr>\n",
       "    <tr>\n",
       "      <th>5</th>\n",
       "      <td>280</td>\n",
       "      <td>michael johnson</td>\n",
       "      <td>723</td>\n",
       "      <td>m</td>\n",
       "      <td>38</td>\n",
       "    </tr>\n",
       "    <tr>\n",
       "      <th>6</th>\n",
       "      <td>280</td>\n",
       "      <td>robert kincaid</td>\n",
       "      <td>1908</td>\n",
       "      <td>m</td>\n",
       "      <td>65</td>\n",
       "    </tr>\n",
       "    <tr>\n",
       "      <th>7</th>\n",
       "      <td>623</td>\n",
       "      <td>bobby korfin</td>\n",
       "      <td>328</td>\n",
       "      <td>m</td>\n",
       "      <td>NaN</td>\n",
       "    </tr>\n",
       "    <tr>\n",
       "      <th>8</th>\n",
       "      <td>623</td>\n",
       "      <td>daphne handlova</td>\n",
       "      <td>409</td>\n",
       "      <td>f</td>\n",
       "      <td>28</td>\n",
       "    </tr>\n",
       "    <tr>\n",
       "      <th>9</th>\n",
       "      <td>623</td>\n",
       "      <td>deputy chief fi</td>\n",
       "      <td>347</td>\n",
       "      <td>m</td>\n",
       "      <td>NaN</td>\n",
       "    </tr>\n",
       "    <tr>\n",
       "      <th>10</th>\n",
       "      <td>623</td>\n",
       "      <td>detective eddie</td>\n",
       "      <td>2020</td>\n",
       "      <td>m</td>\n",
       "      <td>58</td>\n",
       "    </tr>\n",
       "    <tr>\n",
       "      <th>11</th>\n",
       "      <td>623</td>\n",
       "      <td>detective leon</td>\n",
       "      <td>366</td>\n",
       "      <td>m</td>\n",
       "      <td>53</td>\n",
       "    </tr>\n",
       "    <tr>\n",
       "      <th>12</th>\n",
       "      <td>623</td>\n",
       "      <td>detective tommy</td>\n",
       "      <td>160</td>\n",
       "      <td>m</td>\n",
       "      <td>25</td>\n",
       "    </tr>\n",
       "    <tr>\n",
       "      <th>13</th>\n",
       "      <td>623</td>\n",
       "      <td>emil slovak</td>\n",
       "      <td>1337</td>\n",
       "      <td>m</td>\n",
       "      <td>39</td>\n",
       "    </tr>\n",
       "    <tr>\n",
       "      <th>14</th>\n",
       "      <td>623</td>\n",
       "      <td>fire marshal jo</td>\n",
       "      <td>1683</td>\n",
       "      <td>m</td>\n",
       "      <td>33</td>\n",
       "    </tr>\n",
       "  </tbody>\n",
       "</table>\n",
       "</div>"
      ],
      "text/plain": [
       "    script_id imdb_character_name  words gender  age\n",
       "0         280               betty    311      f   35\n",
       "1         280     carolyn johnson    873      f  NaN\n",
       "2         280             eleanor    138      f  NaN\n",
       "3         280     francesca johns   2251      f   46\n",
       "4         280               madge    190      f   46\n",
       "5         280     michael johnson    723      m   38\n",
       "6         280      robert kincaid   1908      m   65\n",
       "7         623        bobby korfin    328      m  NaN\n",
       "8         623     daphne handlova    409      f   28\n",
       "9         623     deputy chief fi    347      m  NaN\n",
       "10        623     detective eddie   2020      m   58\n",
       "11        623     detective leon     366      m   53\n",
       "12        623     detective tommy    160      m   25\n",
       "13        623         emil slovak   1337      m   39\n",
       "14        623     fire marshal jo   1683      m   33"
      ]
     },
     "execution_count": 74,
     "metadata": {},
     "output_type": "execute_result"
    }
   ],
   "source": [
    "character_df[:15]"
   ]
  },
  {
   "cell_type": "code",
   "execution_count": 261,
   "metadata": {
    "collapsed": false
   },
   "outputs": [
    {
     "name": "stdout",
     "output_type": "stream",
     "text": [
      "Index(['year_x', 'title_x', 'budget', 'Domestic Gross', 'Worldwide Gross',\n",
      "       'movie', 'script_id', 'imdb_id', 'title_y', 'year_y', 'gross',\n",
      "       'lines_data', 'ratio', 'imdb_character_name', 'words', 'gender', 'age',\n",
      "       'char ratio'],\n",
      "      dtype='object')\n"
     ]
    },
    {
     "name": "stderr",
     "output_type": "stream",
     "text": [
      "/Users/hannahdeen/anaconda3/lib/python3.5/site-packages/ipykernel/__main__.py:11: SettingWithCopyWarning: \n",
      "A value is trying to be set on a copy of a slice from a DataFrame.\n",
      "Try using .loc[row_indexer,col_indexer] = value instead\n",
      "\n",
      "See the caveats in the documentation: http://pandas.pydata.org/pandas-docs/stable/indexing.html#indexing-view-versus-copy\n"
     ]
    }
   ],
   "source": [
    "import collections \n",
    "\n",
    "character_df = tmp\n",
    "#character_merge = pd.merge(df_new, character_df, on=['script_id'])\n",
    "\n",
    "print(character_merge.columns)\n",
    "for script in set(character_merge['script_id']):\n",
    "        tmp = character_merge[character_merge['script_id']==script]\n",
    "        countdict = collections.Counter(tmp['gender'])\n",
    "        char_ratio = countdict['f']/countdict['m']\n",
    "        tmp['char ratio'] = char_ratio\n",
    "        character_df = pd.concat([character_df, tmp], axis = 0)\n",
    "\n",
    "  \n"
   ]
  },
  {
   "cell_type": "code",
   "execution_count": 271,
   "metadata": {
    "collapsed": false
   },
   "outputs": [
    {
     "name": "stdout",
     "output_type": "stream",
     "text": [
      "Index(['year_x', 'title_x', 'budget', 'Domestic Gross', 'Worldwide Gross',\n",
      "       'movie', 'script_id', 'imdb_id', 'title_y', 'year_y', 'gross',\n",
      "       'lines_data', 'ratio', 'imdb_character_name', 'words', 'gender', 'age',\n",
      "       'char ratio'],\n",
      "      dtype='object')\n",
      "Index(['budget', 'dom gross', 'movie', 'ratio', 'year', 'script_id', 'genre',\n",
      "       'rating', 'genre: Family', 'genre: Animation', 'genre: Romance',\n",
      "       'genre: Adventure', 'genre: Sci-Fi', 'genre: Crime', 'genre: Musical',\n",
      "       'genre: None', 'genre: Thriller', 'genre: Comedy', 'genre: Drama',\n",
      "       'genre: Romantic Comedy', 'genre: Horror', 'genre: Action',\n",
      "       'genre: Fantasy', 'genre: Western', 'genre: War', 'intercept'],\n",
      "      dtype='object')\n",
      "Index(['year_x', 'title_x', 'budget_x', 'Domestic Gross', 'Worldwide Gross',\n",
      "       'movie_x', 'script_id', 'imdb_id', 'title_y', 'year_y', 'gross',\n",
      "       'lines_data', 'ratio_x', 'imdb_character_name', 'words', 'gender',\n",
      "       'age', 'char ratio', 'budget_y', 'dom gross', 'movie_y', 'ratio_y',\n",
      "       'year', 'genre', 'rating', 'genre: Family', 'genre: Animation',\n",
      "       'genre: Romance', 'genre: Adventure', 'genre: Sci-Fi', 'genre: Crime',\n",
      "       'genre: Musical', 'genre: None', 'genre: Thriller', 'genre: Comedy',\n",
      "       'genre: Drama', 'genre: Romantic Comedy', 'genre: Horror',\n",
      "       'genre: Action', 'genre: Fantasy', 'genre: Western', 'genre: War',\n",
      "       'intercept'],\n",
      "      dtype='object')\n"
     ]
    }
   ],
   "source": [
    "#char_df = pd.concat([character_df['script_id'], character_df['char ratio']], axis=1)\n",
    "\n",
    "#character_df['Domestic Gross']=[budget/100000 for budget in character_df['Domestic Gross']]\n",
    "#final_df = pd.merge(character_df, df_reduced_merged, on=['script_id'])\n",
    "print(character_df.columns)\n",
    "print(df_reduced_merged.columns)\n",
    "print(final_df.columns)\n",
    "#character_df['char ratio']"
   ]
  },
  {
   "cell_type": "code",
   "execution_count": 205,
   "metadata": {
    "collapsed": false
   },
   "outputs": [
    {
     "data": {
      "text/plain": [
       "Index(['script_id', 'char ratio', 'budget', 'dom gross', 'movie', 'ratio',\n",
       "       'year'],\n",
       "      dtype='object')"
      ]
     },
     "execution_count": 205,
     "metadata": {},
     "output_type": "execute_result"
    }
   ],
   "source": [
    "#last_test_merge = pd.merge(char_df, df_new_reduced, on= ['script_id'])\n",
    "#last_test_merge = pd.concat([last_test_merge, df_reduced_merged], axis=1 )\n",
    "last_test_merge.columns\n"
   ]
  },
  {
   "cell_type": "code",
   "execution_count": 262,
   "metadata": {
    "collapsed": false
   },
   "outputs": [],
   "source": [
    "#[gross/1000000 for gross in last_test_merge['budget']]\n",
    "# last_test_merge['intercept'] = np.ones(len(last_test_merge))\n",
    "\n",
    "# y = np.array(last_test_merge['year'])\n",
    "# x = np.array(last_test_merge[['intercept', 'char ratio','budget', 'dom gross', 'genre: Action']])\n",
    "\n",
    "# model = sm.OLS(y,x)\n",
    "# results = model.fit()\n",
    "# results.summary()"
   ]
  },
  {
   "cell_type": "code",
   "execution_count": null,
   "metadata": {
    "collapsed": true
   },
   "outputs": [],
   "source": []
  }
 ],
 "metadata": {
  "kernelspec": {
   "display_name": "Python 3",
   "language": "python",
   "name": "python3"
  },
  "language_info": {
   "codemirror_mode": {
    "name": "ipython",
    "version": 3
   },
   "file_extension": ".py",
   "mimetype": "text/x-python",
   "name": "python",
   "nbconvert_exporter": "python",
   "pygments_lexer": "ipython3",
   "version": "3.5.1"
  }
 },
 "nbformat": 4,
 "nbformat_minor": 0
}
